{
 "cells": [
  {
   "cell_type": "code",
   "execution_count": 157,
   "metadata": {
    "id": "2jAy0BKEITe6"
   },
   "outputs": [],
   "source": [
    "import numpy as np\n",
    "import pandas as pd"
   ]
  },
  {
   "cell_type": "code",
   "execution_count": 158,
   "metadata": {
    "id": "qa-KKrJaIWRq"
   },
   "outputs": [],
   "source": [
    "import numpy as np\n",
    "import pandas as pd"
   ]
  },
  {
   "cell_type": "code",
   "execution_count": 159,
   "metadata": {
    "id": "Zj6qKYGEIrL9"
   },
   "outputs": [],
   "source": [
    "df_circuits  = pd.read_csv(\"data/circuits.csv\")\n",
    "df_drivers  = pd.read_csv(\"data/drivers.csv\")\n",
    "df_constructor_results  = pd.read_csv(\"data/constructor_results.csv\")\n",
    "df_constructor_standings  = pd.read_csv(\"data/constructor_standings.csv\")\n",
    "df_constructor  = pd.read_csv(\"data/constructors.csv\")\n",
    "df_driver_standings  = pd.read_csv(\"data/driver_standings.csv\")\n",
    "df_drivers = pd.read_csv(\"data/drivers.csv\")\n",
    "df_lap_times  = pd.read_csv(\"data/lap_times.csv\")\n",
    "df_pit_stops  = pd.read_csv(\"data/pit_stops.csv\")\n",
    "df_qualifying  = pd.read_csv(\"data/qualifying.csv\")\n",
    "df_races  = pd.read_csv(\"data/races.csv\")\n",
    "df_results  = pd.read_csv(\"data/results.csv\")\n",
    "df_seasons  = pd.read_csv(\"data/seasons.csv\")\n",
    "df_sprint_results  = pd.read_csv(\"data/sprint_results.csv\")\n",
    "df_status  = pd.read_csv(\"data/status.csv\")"
   ]
  },
  {
   "cell_type": "code",
   "execution_count": 160,
   "metadata": {
    "colab": {
     "base_uri": "https://localhost:8080/",
     "height": 725
    },
    "id": "QxQxvrNnI4wQ",
    "outputId": "8db083af-85aa-4743-d7d8-444344fac7c3"
   },
   "outputs": [
    {
     "data": {
      "text/html": [
       "<div>\n",
       "<style scoped>\n",
       "    .dataframe tbody tr th:only-of-type {\n",
       "        vertical-align: middle;\n",
       "    }\n",
       "\n",
       "    .dataframe tbody tr th {\n",
       "        vertical-align: top;\n",
       "    }\n",
       "\n",
       "    .dataframe thead th {\n",
       "        text-align: right;\n",
       "    }\n",
       "</style>\n",
       "<table border=\"1\" class=\"dataframe\">\n",
       "  <thead>\n",
       "    <tr style=\"text-align: right;\">\n",
       "      <th></th>\n",
       "      <th>circuitId</th>\n",
       "      <th>circuitRef</th>\n",
       "      <th>name</th>\n",
       "      <th>location</th>\n",
       "      <th>country</th>\n",
       "      <th>lat</th>\n",
       "      <th>lng</th>\n",
       "      <th>alt</th>\n",
       "      <th>url</th>\n",
       "    </tr>\n",
       "  </thead>\n",
       "  <tbody>\n",
       "    <tr>\n",
       "      <th>0</th>\n",
       "      <td>1</td>\n",
       "      <td>albert_park</td>\n",
       "      <td>Albert Park Grand Prix Circuit</td>\n",
       "      <td>Melbourne</td>\n",
       "      <td>Australia</td>\n",
       "      <td>-37.84970</td>\n",
       "      <td>144.96800</td>\n",
       "      <td>10</td>\n",
       "      <td>http://en.wikipedia.org/wiki/Melbourne_Grand_P...</td>\n",
       "    </tr>\n",
       "    <tr>\n",
       "      <th>1</th>\n",
       "      <td>2</td>\n",
       "      <td>sepang</td>\n",
       "      <td>Sepang International Circuit</td>\n",
       "      <td>Kuala Lumpur</td>\n",
       "      <td>Malaysia</td>\n",
       "      <td>2.76083</td>\n",
       "      <td>101.73800</td>\n",
       "      <td>18</td>\n",
       "      <td>http://en.wikipedia.org/wiki/Sepang_Internatio...</td>\n",
       "    </tr>\n",
       "    <tr>\n",
       "      <th>2</th>\n",
       "      <td>3</td>\n",
       "      <td>bahrain</td>\n",
       "      <td>Bahrain International Circuit</td>\n",
       "      <td>Sakhir</td>\n",
       "      <td>Bahrain</td>\n",
       "      <td>26.03250</td>\n",
       "      <td>50.51060</td>\n",
       "      <td>7</td>\n",
       "      <td>http://en.wikipedia.org/wiki/Bahrain_Internati...</td>\n",
       "    </tr>\n",
       "    <tr>\n",
       "      <th>3</th>\n",
       "      <td>4</td>\n",
       "      <td>catalunya</td>\n",
       "      <td>Circuit de Barcelona-Catalunya</td>\n",
       "      <td>Montmeló</td>\n",
       "      <td>Spain</td>\n",
       "      <td>41.57000</td>\n",
       "      <td>2.26111</td>\n",
       "      <td>109</td>\n",
       "      <td>http://en.wikipedia.org/wiki/Circuit_de_Barcel...</td>\n",
       "    </tr>\n",
       "    <tr>\n",
       "      <th>4</th>\n",
       "      <td>5</td>\n",
       "      <td>istanbul</td>\n",
       "      <td>Istanbul Park</td>\n",
       "      <td>Istanbul</td>\n",
       "      <td>Turkey</td>\n",
       "      <td>40.95170</td>\n",
       "      <td>29.40500</td>\n",
       "      <td>130</td>\n",
       "      <td>http://en.wikipedia.org/wiki/Istanbul_Park</td>\n",
       "    </tr>\n",
       "    <tr>\n",
       "      <th>...</th>\n",
       "      <td>...</td>\n",
       "      <td>...</td>\n",
       "      <td>...</td>\n",
       "      <td>...</td>\n",
       "      <td>...</td>\n",
       "      <td>...</td>\n",
       "      <td>...</td>\n",
       "      <td>...</td>\n",
       "      <td>...</td>\n",
       "    </tr>\n",
       "    <tr>\n",
       "      <th>72</th>\n",
       "      <td>75</td>\n",
       "      <td>portimao</td>\n",
       "      <td>Autódromo Internacional do Algarve</td>\n",
       "      <td>Portimão</td>\n",
       "      <td>Portugal</td>\n",
       "      <td>37.22700</td>\n",
       "      <td>-8.62670</td>\n",
       "      <td>108</td>\n",
       "      <td>http://en.wikipedia.org/wiki/Algarve_Internati...</td>\n",
       "    </tr>\n",
       "    <tr>\n",
       "      <th>73</th>\n",
       "      <td>76</td>\n",
       "      <td>mugello</td>\n",
       "      <td>Autodromo Internazionale del Mugello</td>\n",
       "      <td>Mugello</td>\n",
       "      <td>Italy</td>\n",
       "      <td>43.99750</td>\n",
       "      <td>11.37190</td>\n",
       "      <td>255</td>\n",
       "      <td>http://en.wikipedia.org/wiki/Mugello_Circuit</td>\n",
       "    </tr>\n",
       "    <tr>\n",
       "      <th>74</th>\n",
       "      <td>77</td>\n",
       "      <td>jeddah</td>\n",
       "      <td>Jeddah Corniche Circuit</td>\n",
       "      <td>Jeddah</td>\n",
       "      <td>Saudi Arabia</td>\n",
       "      <td>21.63190</td>\n",
       "      <td>39.10440</td>\n",
       "      <td>15</td>\n",
       "      <td>http://en.wikipedia.org/wiki/Jeddah_Street_Cir...</td>\n",
       "    </tr>\n",
       "    <tr>\n",
       "      <th>75</th>\n",
       "      <td>78</td>\n",
       "      <td>losail</td>\n",
       "      <td>Losail International Circuit</td>\n",
       "      <td>Al Daayen</td>\n",
       "      <td>Qatar</td>\n",
       "      <td>25.49000</td>\n",
       "      <td>51.45420</td>\n",
       "      <td>12</td>\n",
       "      <td>http://en.wikipedia.org/wiki/Losail_Internatio...</td>\n",
       "    </tr>\n",
       "    <tr>\n",
       "      <th>76</th>\n",
       "      <td>79</td>\n",
       "      <td>miami</td>\n",
       "      <td>Miami International Autodrome</td>\n",
       "      <td>Miami</td>\n",
       "      <td>USA</td>\n",
       "      <td>25.95810</td>\n",
       "      <td>-80.23890</td>\n",
       "      <td>0</td>\n",
       "      <td>http://en.wikipedia.org/wiki/Miami_Internation...</td>\n",
       "    </tr>\n",
       "  </tbody>\n",
       "</table>\n",
       "<p>77 rows × 9 columns</p>\n",
       "</div>"
      ],
      "text/plain": [
       "    circuitId   circuitRef                                  name  \\\n",
       "0           1  albert_park        Albert Park Grand Prix Circuit   \n",
       "1           2       sepang          Sepang International Circuit   \n",
       "2           3      bahrain         Bahrain International Circuit   \n",
       "3           4    catalunya        Circuit de Barcelona-Catalunya   \n",
       "4           5     istanbul                         Istanbul Park   \n",
       "..        ...          ...                                   ...   \n",
       "72         75     portimao    Autódromo Internacional do Algarve   \n",
       "73         76      mugello  Autodromo Internazionale del Mugello   \n",
       "74         77       jeddah               Jeddah Corniche Circuit   \n",
       "75         78       losail          Losail International Circuit   \n",
       "76         79        miami         Miami International Autodrome   \n",
       "\n",
       "        location       country       lat        lng  alt  \\\n",
       "0      Melbourne     Australia -37.84970  144.96800   10   \n",
       "1   Kuala Lumpur      Malaysia   2.76083  101.73800   18   \n",
       "2         Sakhir       Bahrain  26.03250   50.51060    7   \n",
       "3       Montmeló         Spain  41.57000    2.26111  109   \n",
       "4       Istanbul        Turkey  40.95170   29.40500  130   \n",
       "..           ...           ...       ...        ...  ...   \n",
       "72      Portimão      Portugal  37.22700   -8.62670  108   \n",
       "73       Mugello         Italy  43.99750   11.37190  255   \n",
       "74        Jeddah  Saudi Arabia  21.63190   39.10440   15   \n",
       "75     Al Daayen         Qatar  25.49000   51.45420   12   \n",
       "76         Miami           USA  25.95810  -80.23890    0   \n",
       "\n",
       "                                                  url  \n",
       "0   http://en.wikipedia.org/wiki/Melbourne_Grand_P...  \n",
       "1   http://en.wikipedia.org/wiki/Sepang_Internatio...  \n",
       "2   http://en.wikipedia.org/wiki/Bahrain_Internati...  \n",
       "3   http://en.wikipedia.org/wiki/Circuit_de_Barcel...  \n",
       "4          http://en.wikipedia.org/wiki/Istanbul_Park  \n",
       "..                                                ...  \n",
       "72  http://en.wikipedia.org/wiki/Algarve_Internati...  \n",
       "73       http://en.wikipedia.org/wiki/Mugello_Circuit  \n",
       "74  http://en.wikipedia.org/wiki/Jeddah_Street_Cir...  \n",
       "75  http://en.wikipedia.org/wiki/Losail_Internatio...  \n",
       "76  http://en.wikipedia.org/wiki/Miami_Internation...  \n",
       "\n",
       "[77 rows x 9 columns]"
      ]
     },
     "execution_count": 160,
     "metadata": {},
     "output_type": "execute_result"
    }
   ],
   "source": [
    "df_circuits"
   ]
  },
  {
   "cell_type": "code",
   "execution_count": 161,
   "metadata": {
    "colab": {
     "base_uri": "https://localhost:8080/",
     "height": 419
    },
    "id": "ASbwFn2HJDEh",
    "outputId": "89198d58-905a-4a6f-be98-f2462047cb72"
   },
   "outputs": [
    {
     "data": {
      "text/html": [
       "<div>\n",
       "<style scoped>\n",
       "    .dataframe tbody tr th:only-of-type {\n",
       "        vertical-align: middle;\n",
       "    }\n",
       "\n",
       "    .dataframe tbody tr th {\n",
       "        vertical-align: top;\n",
       "    }\n",
       "\n",
       "    .dataframe thead th {\n",
       "        text-align: right;\n",
       "    }\n",
       "</style>\n",
       "<table border=\"1\" class=\"dataframe\">\n",
       "  <thead>\n",
       "    <tr style=\"text-align: right;\">\n",
       "      <th></th>\n",
       "      <th>qualifyId</th>\n",
       "      <th>raceId</th>\n",
       "      <th>driverId</th>\n",
       "      <th>constructorId</th>\n",
       "      <th>number</th>\n",
       "      <th>position</th>\n",
       "      <th>q1</th>\n",
       "      <th>q2</th>\n",
       "      <th>q3</th>\n",
       "    </tr>\n",
       "  </thead>\n",
       "  <tbody>\n",
       "    <tr>\n",
       "      <th>0</th>\n",
       "      <td>1</td>\n",
       "      <td>18</td>\n",
       "      <td>1</td>\n",
       "      <td>1</td>\n",
       "      <td>22</td>\n",
       "      <td>1</td>\n",
       "      <td>1:26.572</td>\n",
       "      <td>1:25.187</td>\n",
       "      <td>1:26.714</td>\n",
       "    </tr>\n",
       "    <tr>\n",
       "      <th>1</th>\n",
       "      <td>2</td>\n",
       "      <td>18</td>\n",
       "      <td>9</td>\n",
       "      <td>2</td>\n",
       "      <td>4</td>\n",
       "      <td>2</td>\n",
       "      <td>1:26.103</td>\n",
       "      <td>1:25.315</td>\n",
       "      <td>1:26.869</td>\n",
       "    </tr>\n",
       "    <tr>\n",
       "      <th>2</th>\n",
       "      <td>3</td>\n",
       "      <td>18</td>\n",
       "      <td>5</td>\n",
       "      <td>1</td>\n",
       "      <td>23</td>\n",
       "      <td>3</td>\n",
       "      <td>1:25.664</td>\n",
       "      <td>1:25.452</td>\n",
       "      <td>1:27.079</td>\n",
       "    </tr>\n",
       "    <tr>\n",
       "      <th>3</th>\n",
       "      <td>4</td>\n",
       "      <td>18</td>\n",
       "      <td>13</td>\n",
       "      <td>6</td>\n",
       "      <td>2</td>\n",
       "      <td>4</td>\n",
       "      <td>1:25.994</td>\n",
       "      <td>1:25.691</td>\n",
       "      <td>1:27.178</td>\n",
       "    </tr>\n",
       "    <tr>\n",
       "      <th>4</th>\n",
       "      <td>5</td>\n",
       "      <td>18</td>\n",
       "      <td>2</td>\n",
       "      <td>2</td>\n",
       "      <td>3</td>\n",
       "      <td>5</td>\n",
       "      <td>1:25.960</td>\n",
       "      <td>1:25.518</td>\n",
       "      <td>1:27.236</td>\n",
       "    </tr>\n",
       "    <tr>\n",
       "      <th>...</th>\n",
       "      <td>...</td>\n",
       "      <td>...</td>\n",
       "      <td>...</td>\n",
       "      <td>...</td>\n",
       "      <td>...</td>\n",
       "      <td>...</td>\n",
       "      <td>...</td>\n",
       "      <td>...</td>\n",
       "      <td>...</td>\n",
       "    </tr>\n",
       "    <tr>\n",
       "      <th>10249</th>\n",
       "      <td>10307</td>\n",
       "      <td>1132</td>\n",
       "      <td>822</td>\n",
       "      <td>15</td>\n",
       "      <td>77</td>\n",
       "      <td>16</td>\n",
       "      <td>1:32.431</td>\n",
       "      <td>\\N</td>\n",
       "      <td>\\N</td>\n",
       "    </tr>\n",
       "    <tr>\n",
       "      <th>10250</th>\n",
       "      <td>10308</td>\n",
       "      <td>1132</td>\n",
       "      <td>825</td>\n",
       "      <td>210</td>\n",
       "      <td>20</td>\n",
       "      <td>17</td>\n",
       "      <td>1:32.905</td>\n",
       "      <td>\\N</td>\n",
       "      <td>\\N</td>\n",
       "    </tr>\n",
       "    <tr>\n",
       "      <th>10251</th>\n",
       "      <td>10309</td>\n",
       "      <td>1132</td>\n",
       "      <td>839</td>\n",
       "      <td>214</td>\n",
       "      <td>31</td>\n",
       "      <td>18</td>\n",
       "      <td>1:34.557</td>\n",
       "      <td>\\N</td>\n",
       "      <td>\\N</td>\n",
       "    </tr>\n",
       "    <tr>\n",
       "      <th>10252</th>\n",
       "      <td>10310</td>\n",
       "      <td>1132</td>\n",
       "      <td>815</td>\n",
       "      <td>9</td>\n",
       "      <td>11</td>\n",
       "      <td>19</td>\n",
       "      <td>1:38.348</td>\n",
       "      <td>\\N</td>\n",
       "      <td>\\N</td>\n",
       "    </tr>\n",
       "    <tr>\n",
       "      <th>10253</th>\n",
       "      <td>10311</td>\n",
       "      <td>1132</td>\n",
       "      <td>842</td>\n",
       "      <td>214</td>\n",
       "      <td>10</td>\n",
       "      <td>20</td>\n",
       "      <td>1:39.804</td>\n",
       "      <td>\\N</td>\n",
       "      <td>\\N</td>\n",
       "    </tr>\n",
       "  </tbody>\n",
       "</table>\n",
       "<p>10254 rows × 9 columns</p>\n",
       "</div>"
      ],
      "text/plain": [
       "       qualifyId  raceId  driverId  constructorId  number  position        q1  \\\n",
       "0              1      18         1              1      22         1  1:26.572   \n",
       "1              2      18         9              2       4         2  1:26.103   \n",
       "2              3      18         5              1      23         3  1:25.664   \n",
       "3              4      18        13              6       2         4  1:25.994   \n",
       "4              5      18         2              2       3         5  1:25.960   \n",
       "...          ...     ...       ...            ...     ...       ...       ...   \n",
       "10249      10307    1132       822             15      77        16  1:32.431   \n",
       "10250      10308    1132       825            210      20        17  1:32.905   \n",
       "10251      10309    1132       839            214      31        18  1:34.557   \n",
       "10252      10310    1132       815              9      11        19  1:38.348   \n",
       "10253      10311    1132       842            214      10        20  1:39.804   \n",
       "\n",
       "             q2        q3  \n",
       "0      1:25.187  1:26.714  \n",
       "1      1:25.315  1:26.869  \n",
       "2      1:25.452  1:27.079  \n",
       "3      1:25.691  1:27.178  \n",
       "4      1:25.518  1:27.236  \n",
       "...         ...       ...  \n",
       "10249        \\N        \\N  \n",
       "10250        \\N        \\N  \n",
       "10251        \\N        \\N  \n",
       "10252        \\N        \\N  \n",
       "10253        \\N        \\N  \n",
       "\n",
       "[10254 rows x 9 columns]"
      ]
     },
     "execution_count": 161,
     "metadata": {},
     "output_type": "execute_result"
    }
   ],
   "source": [
    "df_qualifying"
   ]
  },
  {
   "cell_type": "code",
   "execution_count": 162,
   "metadata": {
    "colab": {
     "base_uri": "https://localhost:8080/"
    },
    "id": "fQQOm_lCI8Fj",
    "outputId": "ef2d00fa-9e05-4bfa-d14a-0f6c189cf9e5"
   },
   "outputs": [
    {
     "data": {
      "text/plain": [
       "1994"
      ]
     },
     "execution_count": 162,
     "metadata": {},
     "output_type": "execute_result"
    }
   ],
   "source": [
    "# First data about qualifying\n",
    "df_qualifying.merge(df_races[['raceId', 'year']], on='raceId')['year'].min()"
   ]
  },
  {
   "cell_type": "code",
   "execution_count": 163,
   "metadata": {
    "colab": {
     "base_uri": "https://localhost:8080/",
     "height": 419
    },
    "id": "zpGUeFNZJAwI",
    "outputId": "782d9c04-de2c-4915-b109-a52a64918acf"
   },
   "outputs": [
    {
     "data": {
      "text/html": [
       "<div>\n",
       "<style scoped>\n",
       "    .dataframe tbody tr th:only-of-type {\n",
       "        vertical-align: middle;\n",
       "    }\n",
       "\n",
       "    .dataframe tbody tr th {\n",
       "        vertical-align: top;\n",
       "    }\n",
       "\n",
       "    .dataframe thead th {\n",
       "        text-align: right;\n",
       "    }\n",
       "</style>\n",
       "<table border=\"1\" class=\"dataframe\">\n",
       "  <thead>\n",
       "    <tr style=\"text-align: right;\">\n",
       "      <th></th>\n",
       "      <th>qualifyId</th>\n",
       "      <th>raceId</th>\n",
       "      <th>driverId</th>\n",
       "      <th>constructorId</th>\n",
       "      <th>number</th>\n",
       "      <th>position</th>\n",
       "      <th>q1</th>\n",
       "      <th>q2</th>\n",
       "      <th>q3</th>\n",
       "      <th>year</th>\n",
       "    </tr>\n",
       "  </thead>\n",
       "  <tbody>\n",
       "    <tr>\n",
       "      <th>0</th>\n",
       "      <td>1</td>\n",
       "      <td>18</td>\n",
       "      <td>1</td>\n",
       "      <td>1</td>\n",
       "      <td>22</td>\n",
       "      <td>1</td>\n",
       "      <td>1:26.572</td>\n",
       "      <td>1:25.187</td>\n",
       "      <td>1:26.714</td>\n",
       "      <td>2008</td>\n",
       "    </tr>\n",
       "    <tr>\n",
       "      <th>1</th>\n",
       "      <td>2</td>\n",
       "      <td>18</td>\n",
       "      <td>9</td>\n",
       "      <td>2</td>\n",
       "      <td>4</td>\n",
       "      <td>2</td>\n",
       "      <td>1:26.103</td>\n",
       "      <td>1:25.315</td>\n",
       "      <td>1:26.869</td>\n",
       "      <td>2008</td>\n",
       "    </tr>\n",
       "    <tr>\n",
       "      <th>2</th>\n",
       "      <td>3</td>\n",
       "      <td>18</td>\n",
       "      <td>5</td>\n",
       "      <td>1</td>\n",
       "      <td>23</td>\n",
       "      <td>3</td>\n",
       "      <td>1:25.664</td>\n",
       "      <td>1:25.452</td>\n",
       "      <td>1:27.079</td>\n",
       "      <td>2008</td>\n",
       "    </tr>\n",
       "    <tr>\n",
       "      <th>3</th>\n",
       "      <td>4</td>\n",
       "      <td>18</td>\n",
       "      <td>13</td>\n",
       "      <td>6</td>\n",
       "      <td>2</td>\n",
       "      <td>4</td>\n",
       "      <td>1:25.994</td>\n",
       "      <td>1:25.691</td>\n",
       "      <td>1:27.178</td>\n",
       "      <td>2008</td>\n",
       "    </tr>\n",
       "    <tr>\n",
       "      <th>4</th>\n",
       "      <td>5</td>\n",
       "      <td>18</td>\n",
       "      <td>2</td>\n",
       "      <td>2</td>\n",
       "      <td>3</td>\n",
       "      <td>5</td>\n",
       "      <td>1:25.960</td>\n",
       "      <td>1:25.518</td>\n",
       "      <td>1:27.236</td>\n",
       "      <td>2008</td>\n",
       "    </tr>\n",
       "    <tr>\n",
       "      <th>...</th>\n",
       "      <td>...</td>\n",
       "      <td>...</td>\n",
       "      <td>...</td>\n",
       "      <td>...</td>\n",
       "      <td>...</td>\n",
       "      <td>...</td>\n",
       "      <td>...</td>\n",
       "      <td>...</td>\n",
       "      <td>...</td>\n",
       "      <td>...</td>\n",
       "    </tr>\n",
       "    <tr>\n",
       "      <th>10249</th>\n",
       "      <td>10307</td>\n",
       "      <td>1132</td>\n",
       "      <td>822</td>\n",
       "      <td>15</td>\n",
       "      <td>77</td>\n",
       "      <td>16</td>\n",
       "      <td>1:32.431</td>\n",
       "      <td>\\N</td>\n",
       "      <td>\\N</td>\n",
       "      <td>2024</td>\n",
       "    </tr>\n",
       "    <tr>\n",
       "      <th>10250</th>\n",
       "      <td>10308</td>\n",
       "      <td>1132</td>\n",
       "      <td>825</td>\n",
       "      <td>210</td>\n",
       "      <td>20</td>\n",
       "      <td>17</td>\n",
       "      <td>1:32.905</td>\n",
       "      <td>\\N</td>\n",
       "      <td>\\N</td>\n",
       "      <td>2024</td>\n",
       "    </tr>\n",
       "    <tr>\n",
       "      <th>10251</th>\n",
       "      <td>10309</td>\n",
       "      <td>1132</td>\n",
       "      <td>839</td>\n",
       "      <td>214</td>\n",
       "      <td>31</td>\n",
       "      <td>18</td>\n",
       "      <td>1:34.557</td>\n",
       "      <td>\\N</td>\n",
       "      <td>\\N</td>\n",
       "      <td>2024</td>\n",
       "    </tr>\n",
       "    <tr>\n",
       "      <th>10252</th>\n",
       "      <td>10310</td>\n",
       "      <td>1132</td>\n",
       "      <td>815</td>\n",
       "      <td>9</td>\n",
       "      <td>11</td>\n",
       "      <td>19</td>\n",
       "      <td>1:38.348</td>\n",
       "      <td>\\N</td>\n",
       "      <td>\\N</td>\n",
       "      <td>2024</td>\n",
       "    </tr>\n",
       "    <tr>\n",
       "      <th>10253</th>\n",
       "      <td>10311</td>\n",
       "      <td>1132</td>\n",
       "      <td>842</td>\n",
       "      <td>214</td>\n",
       "      <td>10</td>\n",
       "      <td>20</td>\n",
       "      <td>1:39.804</td>\n",
       "      <td>\\N</td>\n",
       "      <td>\\N</td>\n",
       "      <td>2024</td>\n",
       "    </tr>\n",
       "  </tbody>\n",
       "</table>\n",
       "<p>10254 rows × 10 columns</p>\n",
       "</div>"
      ],
      "text/plain": [
       "       qualifyId  raceId  driverId  constructorId  number  position        q1  \\\n",
       "0              1      18         1              1      22         1  1:26.572   \n",
       "1              2      18         9              2       4         2  1:26.103   \n",
       "2              3      18         5              1      23         3  1:25.664   \n",
       "3              4      18        13              6       2         4  1:25.994   \n",
       "4              5      18         2              2       3         5  1:25.960   \n",
       "...          ...     ...       ...            ...     ...       ...       ...   \n",
       "10249      10307    1132       822             15      77        16  1:32.431   \n",
       "10250      10308    1132       825            210      20        17  1:32.905   \n",
       "10251      10309    1132       839            214      31        18  1:34.557   \n",
       "10252      10310    1132       815              9      11        19  1:38.348   \n",
       "10253      10311    1132       842            214      10        20  1:39.804   \n",
       "\n",
       "             q2        q3  year  \n",
       "0      1:25.187  1:26.714  2008  \n",
       "1      1:25.315  1:26.869  2008  \n",
       "2      1:25.452  1:27.079  2008  \n",
       "3      1:25.691  1:27.178  2008  \n",
       "4      1:25.518  1:27.236  2008  \n",
       "...         ...       ...   ...  \n",
       "10249        \\N        \\N  2024  \n",
       "10250        \\N        \\N  2024  \n",
       "10251        \\N        \\N  2024  \n",
       "10252        \\N        \\N  2024  \n",
       "10253        \\N        \\N  2024  \n",
       "\n",
       "[10254 rows x 10 columns]"
      ]
     },
     "execution_count": 163,
     "metadata": {},
     "output_type": "execute_result"
    }
   ],
   "source": [
    "# adding years to qualifying\n",
    "df_qualifying = df_qualifying.merge(df_races[['raceId', 'year']], on='raceId', how='left')\n",
    "df_qualifying"
   ]
  },
  {
   "cell_type": "code",
   "execution_count": 164,
   "metadata": {
    "id": "BscjqYk9JFsC"
   },
   "outputs": [],
   "source": [
    "df_qualifying = df_qualifying.replace('\\\\N', 0)\n",
    "df_qualifying = df_qualifying.fillna(0)\n",
    "df_results['milliseconds'] = df_results['milliseconds'].replace('\\\\N', 0)\n",
    "df_results['fastestLapTime'] = df_results['fastestLapTime'].replace('\\\\N', 0)\n",
    "df_results['fastestLapSpeed'] = df_results['fastestLapSpeed'].replace('\\\\N', 0)\n",
    "df_results['milliseconds'] = df_results['milliseconds'].astype(float)\n",
    "df_results['fastestLapSpeed'] = df_results['fastestLapSpeed'].astype(float)"
   ]
  },
  {
   "cell_type": "code",
   "execution_count": 165,
   "metadata": {
    "id": "y4TmQHUdJSXZ"
   },
   "outputs": [],
   "source": [
    "# adding date\n",
    "df_results = df_results.merge(df_races[['raceId', 'date', 'circuitId']], on='raceId')"
   ]
  },
  {
   "cell_type": "code",
   "execution_count": 166,
   "metadata": {
    "id": "8YnxgCXmJpSf"
   },
   "outputs": [],
   "source": [
    "# Driver Age\n",
    "\n",
    "df_age = df_results[['raceId', 'driverId', 'date']]\n",
    "df_age = pd.merge(df_age, df_drivers[['driverId', 'dob']], on='driverId', how='left')\n",
    "\n",
    "# Convert date and dob columns to datetime\n",
    "df_age['dob'] = pd.to_datetime(df_age['dob'])\n",
    "df_age['date'] = pd.to_datetime(df_age['date'])\n",
    "\n",
    "# Calculate age at the time of each race\n",
    "df_age['driverAge'] = (df_age['date'] - df_age['dob']).dt.days // 365\n",
    "\n",
    "# Create the new dataframe with 'raceId', 'driverId', and 'age'\n",
    "df_driver_age = df_age[['raceId', 'driverId', 'driverAge']]"
   ]
  },
  {
   "cell_type": "code",
   "execution_count": 167,
   "metadata": {
    "colab": {
     "base_uri": "https://localhost:8080/",
     "height": 419
    },
    "id": "E0mer35mJ41r",
    "outputId": "a1a34b9c-84a4-4c44-e204-cfd2a26b2147"
   },
   "outputs": [
    {
     "data": {
      "text/html": [
       "<div>\n",
       "<style scoped>\n",
       "    .dataframe tbody tr th:only-of-type {\n",
       "        vertical-align: middle;\n",
       "    }\n",
       "\n",
       "    .dataframe tbody tr th {\n",
       "        vertical-align: top;\n",
       "    }\n",
       "\n",
       "    .dataframe thead th {\n",
       "        text-align: right;\n",
       "    }\n",
       "</style>\n",
       "<table border=\"1\" class=\"dataframe\">\n",
       "  <thead>\n",
       "    <tr style=\"text-align: right;\">\n",
       "      <th></th>\n",
       "      <th>raceId</th>\n",
       "      <th>driverId</th>\n",
       "      <th>driverAge</th>\n",
       "    </tr>\n",
       "  </thead>\n",
       "  <tbody>\n",
       "    <tr>\n",
       "      <th>0</th>\n",
       "      <td>18</td>\n",
       "      <td>1</td>\n",
       "      <td>23</td>\n",
       "    </tr>\n",
       "    <tr>\n",
       "      <th>1</th>\n",
       "      <td>18</td>\n",
       "      <td>2</td>\n",
       "      <td>30</td>\n",
       "    </tr>\n",
       "    <tr>\n",
       "      <th>2</th>\n",
       "      <td>18</td>\n",
       "      <td>3</td>\n",
       "      <td>22</td>\n",
       "    </tr>\n",
       "    <tr>\n",
       "      <th>3</th>\n",
       "      <td>18</td>\n",
       "      <td>4</td>\n",
       "      <td>26</td>\n",
       "    </tr>\n",
       "    <tr>\n",
       "      <th>4</th>\n",
       "      <td>18</td>\n",
       "      <td>5</td>\n",
       "      <td>26</td>\n",
       "    </tr>\n",
       "    <tr>\n",
       "      <th>...</th>\n",
       "      <td>...</td>\n",
       "      <td>...</td>\n",
       "      <td>...</td>\n",
       "    </tr>\n",
       "    <tr>\n",
       "      <th>26514</th>\n",
       "      <td>1132</td>\n",
       "      <td>839</td>\n",
       "      <td>27</td>\n",
       "    </tr>\n",
       "    <tr>\n",
       "      <th>26515</th>\n",
       "      <td>1132</td>\n",
       "      <td>815</td>\n",
       "      <td>34</td>\n",
       "    </tr>\n",
       "    <tr>\n",
       "      <th>26516</th>\n",
       "      <td>1132</td>\n",
       "      <td>855</td>\n",
       "      <td>25</td>\n",
       "    </tr>\n",
       "    <tr>\n",
       "      <th>26517</th>\n",
       "      <td>1132</td>\n",
       "      <td>847</td>\n",
       "      <td>26</td>\n",
       "    </tr>\n",
       "    <tr>\n",
       "      <th>26518</th>\n",
       "      <td>1132</td>\n",
       "      <td>842</td>\n",
       "      <td>28</td>\n",
       "    </tr>\n",
       "  </tbody>\n",
       "</table>\n",
       "<p>26519 rows × 3 columns</p>\n",
       "</div>"
      ],
      "text/plain": [
       "       raceId  driverId  driverAge\n",
       "0          18         1         23\n",
       "1          18         2         30\n",
       "2          18         3         22\n",
       "3          18         4         26\n",
       "4          18         5         26\n",
       "...       ...       ...        ...\n",
       "26514    1132       839         27\n",
       "26515    1132       815         34\n",
       "26516    1132       855         25\n",
       "26517    1132       847         26\n",
       "26518    1132       842         28\n",
       "\n",
       "[26519 rows x 3 columns]"
      ]
     },
     "execution_count": 167,
     "metadata": {},
     "output_type": "execute_result"
    }
   ],
   "source": [
    "df_driver_age"
   ]
  },
  {
   "cell_type": "code",
   "execution_count": 168,
   "metadata": {
    "colab": {
     "base_uri": "https://localhost:8080/",
     "height": 419
    },
    "id": "EkrdqRTaJ6qV",
    "outputId": "6c72fbfd-d146-491a-b797-623328b58a2d"
   },
   "outputs": [
    {
     "data": {
      "text/html": [
       "<div>\n",
       "<style scoped>\n",
       "    .dataframe tbody tr th:only-of-type {\n",
       "        vertical-align: middle;\n",
       "    }\n",
       "\n",
       "    .dataframe tbody tr th {\n",
       "        vertical-align: top;\n",
       "    }\n",
       "\n",
       "    .dataframe thead th {\n",
       "        text-align: right;\n",
       "    }\n",
       "</style>\n",
       "<table border=\"1\" class=\"dataframe\">\n",
       "  <thead>\n",
       "    <tr style=\"text-align: right;\">\n",
       "      <th></th>\n",
       "      <th>raceId</th>\n",
       "      <th>driverId</th>\n",
       "      <th>date</th>\n",
       "      <th>driverXpRace</th>\n",
       "    </tr>\n",
       "  </thead>\n",
       "  <tbody>\n",
       "    <tr>\n",
       "      <th>20155</th>\n",
       "      <td>833</td>\n",
       "      <td>785</td>\n",
       "      <td>1950-05-13</td>\n",
       "      <td>1</td>\n",
       "    </tr>\n",
       "    <tr>\n",
       "      <th>20162</th>\n",
       "      <td>833</td>\n",
       "      <td>666</td>\n",
       "      <td>1950-05-13</td>\n",
       "      <td>1</td>\n",
       "    </tr>\n",
       "    <tr>\n",
       "      <th>20161</th>\n",
       "      <td>833</td>\n",
       "      <td>788</td>\n",
       "      <td>1950-05-13</td>\n",
       "      <td>1</td>\n",
       "    </tr>\n",
       "    <tr>\n",
       "      <th>20160</th>\n",
       "      <td>833</td>\n",
       "      <td>790</td>\n",
       "      <td>1950-05-13</td>\n",
       "      <td>1</td>\n",
       "    </tr>\n",
       "    <tr>\n",
       "      <th>20159</th>\n",
       "      <td>833</td>\n",
       "      <td>661</td>\n",
       "      <td>1950-05-13</td>\n",
       "      <td>1</td>\n",
       "    </tr>\n",
       "    <tr>\n",
       "      <th>...</th>\n",
       "      <td>...</td>\n",
       "      <td>...</td>\n",
       "      <td>...</td>\n",
       "      <td>...</td>\n",
       "    </tr>\n",
       "    <tr>\n",
       "      <th>26500</th>\n",
       "      <td>1132</td>\n",
       "      <td>830</td>\n",
       "      <td>2024-07-07</td>\n",
       "      <td>197</td>\n",
       "    </tr>\n",
       "    <tr>\n",
       "      <th>26499</th>\n",
       "      <td>1132</td>\n",
       "      <td>1</td>\n",
       "      <td>2024-07-07</td>\n",
       "      <td>344</td>\n",
       "    </tr>\n",
       "    <tr>\n",
       "      <th>26517</th>\n",
       "      <td>1132</td>\n",
       "      <td>847</td>\n",
       "      <td>2024-07-07</td>\n",
       "      <td>116</td>\n",
       "    </tr>\n",
       "    <tr>\n",
       "      <th>26507</th>\n",
       "      <td>1132</td>\n",
       "      <td>848</td>\n",
       "      <td>2024-07-07</td>\n",
       "      <td>93</td>\n",
       "    </tr>\n",
       "    <tr>\n",
       "      <th>26518</th>\n",
       "      <td>1132</td>\n",
       "      <td>842</td>\n",
       "      <td>2024-07-07</td>\n",
       "      <td>142</td>\n",
       "    </tr>\n",
       "  </tbody>\n",
       "</table>\n",
       "<p>26519 rows × 4 columns</p>\n",
       "</div>"
      ],
      "text/plain": [
       "       raceId  driverId        date  driverXpRace\n",
       "20155     833       785  1950-05-13             1\n",
       "20162     833       666  1950-05-13             1\n",
       "20161     833       788  1950-05-13             1\n",
       "20160     833       790  1950-05-13             1\n",
       "20159     833       661  1950-05-13             1\n",
       "...       ...       ...         ...           ...\n",
       "26500    1132       830  2024-07-07           197\n",
       "26499    1132         1  2024-07-07           344\n",
       "26517    1132       847  2024-07-07           116\n",
       "26507    1132       848  2024-07-07            93\n",
       "26518    1132       842  2024-07-07           142\n",
       "\n",
       "[26519 rows x 4 columns]"
      ]
     },
     "execution_count": 168,
     "metadata": {},
     "output_type": "execute_result"
    }
   ],
   "source": [
    "df_driver_experience = df_results[['raceId', 'driverId', 'date']].sort_values('date')\n",
    "\n",
    "# Calculate the cumulative count of each driver\n",
    "df_driver_experience['driverXpRace'] = df_driver_experience.groupby('driverId').cumcount() + 1\n",
    "df_driver_experience"
   ]
  },
  {
   "cell_type": "code",
   "execution_count": 169,
   "metadata": {
    "id": "tFBLPhD3KEHx"
   },
   "outputs": [],
   "source": [
    "# remove redundant data\n",
    "df_results.drop(['position', 'positionText'], axis=1, inplace=True)"
   ]
  },
  {
   "cell_type": "code",
   "execution_count": 170,
   "metadata": {
    "id": "ABmMr2FWKqMR"
   },
   "outputs": [],
   "source": [
    "df_train = df_results"
   ]
  },
  {
   "cell_type": "code",
   "execution_count": 171,
   "metadata": {
    "id": "CfrE4110Ku__"
   },
   "outputs": [],
   "source": [
    "# add driver experience per race\n",
    "df_train = df_train.merge(df_driver_experience[['raceId','driverId', 'driverXpRace']],\n",
    "                          on=['raceId', 'driverId'],  how='left')"
   ]
  },
  {
   "cell_type": "code",
   "execution_count": 172,
   "metadata": {
    "id": "AIwEYbz_K3Ks"
   },
   "outputs": [],
   "source": [
    "# add driver age in each race\n",
    "df_train = df_train.merge(df_driver_age[['raceId', 'driverId', 'driverAge']],\n",
    "                          on=['raceId', 'driverId'], how='left')"
   ]
  },
  {
   "cell_type": "code",
   "execution_count": 173,
   "metadata": {
    "id": "z_6bj0GqLAqK"
   },
   "outputs": [],
   "source": [
    "# add qualifying data\n",
    "df_train = df_train.merge(df_qualifying[['q1','q2','q3','year','raceId','driverId']],\n",
    "                     how='left', left_on=['raceId','driverId'],\n",
    "                     right_on = ['raceId','driverId'])"
   ]
  },
  {
   "cell_type": "code",
   "execution_count": 174,
   "metadata": {
    "colab": {
     "base_uri": "https://localhost:8080/",
     "height": 419
    },
    "id": "ixQLYaFkLGnq",
    "outputId": "3e20ef8b-3657-406d-83ec-b8de095b2942"
   },
   "outputs": [
    {
     "data": {
      "text/html": [
       "<div>\n",
       "<style scoped>\n",
       "    .dataframe tbody tr th:only-of-type {\n",
       "        vertical-align: middle;\n",
       "    }\n",
       "\n",
       "    .dataframe tbody tr th {\n",
       "        vertical-align: top;\n",
       "    }\n",
       "\n",
       "    .dataframe thead th {\n",
       "        text-align: right;\n",
       "    }\n",
       "</style>\n",
       "<table border=\"1\" class=\"dataframe\">\n",
       "  <thead>\n",
       "    <tr style=\"text-align: right;\">\n",
       "      <th></th>\n",
       "      <th>raceId</th>\n",
       "      <th>date</th>\n",
       "      <th>resultId</th>\n",
       "    </tr>\n",
       "  </thead>\n",
       "  <tbody>\n",
       "    <tr>\n",
       "      <th>0</th>\n",
       "      <td>18</td>\n",
       "      <td>2008-03-16</td>\n",
       "      <td>1</td>\n",
       "    </tr>\n",
       "    <tr>\n",
       "      <th>1</th>\n",
       "      <td>18</td>\n",
       "      <td>2008-03-16</td>\n",
       "      <td>2</td>\n",
       "    </tr>\n",
       "    <tr>\n",
       "      <th>2</th>\n",
       "      <td>18</td>\n",
       "      <td>2008-03-16</td>\n",
       "      <td>3</td>\n",
       "    </tr>\n",
       "    <tr>\n",
       "      <th>3</th>\n",
       "      <td>18</td>\n",
       "      <td>2008-03-16</td>\n",
       "      <td>4</td>\n",
       "    </tr>\n",
       "    <tr>\n",
       "      <th>4</th>\n",
       "      <td>18</td>\n",
       "      <td>2008-03-16</td>\n",
       "      <td>5</td>\n",
       "    </tr>\n",
       "    <tr>\n",
       "      <th>...</th>\n",
       "      <td>...</td>\n",
       "      <td>...</td>\n",
       "      <td>...</td>\n",
       "    </tr>\n",
       "    <tr>\n",
       "      <th>27132</th>\n",
       "      <td>1132</td>\n",
       "      <td>2024-07-07</td>\n",
       "      <td>26520</td>\n",
       "    </tr>\n",
       "    <tr>\n",
       "      <th>27133</th>\n",
       "      <td>1132</td>\n",
       "      <td>2024-07-07</td>\n",
       "      <td>26521</td>\n",
       "    </tr>\n",
       "    <tr>\n",
       "      <th>27134</th>\n",
       "      <td>1132</td>\n",
       "      <td>2024-07-07</td>\n",
       "      <td>26522</td>\n",
       "    </tr>\n",
       "    <tr>\n",
       "      <th>27135</th>\n",
       "      <td>1132</td>\n",
       "      <td>2024-07-07</td>\n",
       "      <td>26523</td>\n",
       "    </tr>\n",
       "    <tr>\n",
       "      <th>27136</th>\n",
       "      <td>1132</td>\n",
       "      <td>2024-07-07</td>\n",
       "      <td>26524</td>\n",
       "    </tr>\n",
       "  </tbody>\n",
       "</table>\n",
       "<p>26519 rows × 3 columns</p>\n",
       "</div>"
      ],
      "text/plain": [
       "       raceId        date  resultId\n",
       "0          18  2008-03-16         1\n",
       "1          18  2008-03-16         2\n",
       "2          18  2008-03-16         3\n",
       "3          18  2008-03-16         4\n",
       "4          18  2008-03-16         5\n",
       "...       ...         ...       ...\n",
       "27132    1132  2024-07-07     26520\n",
       "27133    1132  2024-07-07     26521\n",
       "27134    1132  2024-07-07     26522\n",
       "27135    1132  2024-07-07     26523\n",
       "27136    1132  2024-07-07     26524\n",
       "\n",
       "[26519 rows x 3 columns]"
      ]
     },
     "execution_count": 174,
     "metadata": {},
     "output_type": "execute_result"
    }
   ],
   "source": [
    "df_train.loc[:, ['raceId', 'date', 'resultId']].drop_duplicates(subset=['resultId'])"
   ]
  },
  {
   "cell_type": "code",
   "execution_count": 175,
   "metadata": {
    "id": "yACYU6eALWgU"
   },
   "outputs": [],
   "source": [
    "# take only years between 1996-2002, 2006-2024\n",
    "df_train = df_train[(df_train['year'] >= 1996) & (df_train['year'] <= 2024)]\n",
    "df_train = df_train[(df_train['year'] <= 2002) | (df_train['year'] >= 2006)]"
   ]
  },
  {
   "cell_type": "code",
   "execution_count": 176,
   "metadata": {
    "colab": {
     "base_uri": "https://localhost:8080/",
     "height": 609
    },
    "id": "lba6FoGcMIK9",
    "outputId": "ffa41b56-be59-45c5-b917-317624fee93e"
   },
   "outputs": [
    {
     "data": {
      "text/html": [
       "<div>\n",
       "<style scoped>\n",
       "    .dataframe tbody tr th:only-of-type {\n",
       "        vertical-align: middle;\n",
       "    }\n",
       "\n",
       "    .dataframe tbody tr th {\n",
       "        vertical-align: top;\n",
       "    }\n",
       "\n",
       "    .dataframe thead th {\n",
       "        text-align: right;\n",
       "    }\n",
       "</style>\n",
       "<table border=\"1\" class=\"dataframe\">\n",
       "  <thead>\n",
       "    <tr style=\"text-align: right;\">\n",
       "      <th></th>\n",
       "      <th>resultId</th>\n",
       "      <th>raceId</th>\n",
       "      <th>driverId</th>\n",
       "      <th>constructorId</th>\n",
       "      <th>number</th>\n",
       "      <th>grid</th>\n",
       "      <th>positionOrder</th>\n",
       "      <th>points</th>\n",
       "      <th>laps</th>\n",
       "      <th>time</th>\n",
       "      <th>...</th>\n",
       "      <th>fastestLapSpeed</th>\n",
       "      <th>statusId</th>\n",
       "      <th>date</th>\n",
       "      <th>circuitId</th>\n",
       "      <th>driverXpRace</th>\n",
       "      <th>driverAge</th>\n",
       "      <th>q1</th>\n",
       "      <th>q2</th>\n",
       "      <th>q3</th>\n",
       "      <th>year</th>\n",
       "    </tr>\n",
       "  </thead>\n",
       "  <tbody>\n",
       "    <tr>\n",
       "      <th>0</th>\n",
       "      <td>1</td>\n",
       "      <td>18</td>\n",
       "      <td>1</td>\n",
       "      <td>1</td>\n",
       "      <td>22</td>\n",
       "      <td>1</td>\n",
       "      <td>1</td>\n",
       "      <td>10.0</td>\n",
       "      <td>58</td>\n",
       "      <td>1:34:50.616</td>\n",
       "      <td>...</td>\n",
       "      <td>218.300</td>\n",
       "      <td>1</td>\n",
       "      <td>2008-03-16</td>\n",
       "      <td>1</td>\n",
       "      <td>18</td>\n",
       "      <td>23</td>\n",
       "      <td>1:26.572</td>\n",
       "      <td>1:25.187</td>\n",
       "      <td>1:26.714</td>\n",
       "      <td>2008.0</td>\n",
       "    </tr>\n",
       "    <tr>\n",
       "      <th>1</th>\n",
       "      <td>2</td>\n",
       "      <td>18</td>\n",
       "      <td>2</td>\n",
       "      <td>2</td>\n",
       "      <td>3</td>\n",
       "      <td>5</td>\n",
       "      <td>2</td>\n",
       "      <td>8.0</td>\n",
       "      <td>58</td>\n",
       "      <td>+5.478</td>\n",
       "      <td>...</td>\n",
       "      <td>217.586</td>\n",
       "      <td>1</td>\n",
       "      <td>2008-03-16</td>\n",
       "      <td>1</td>\n",
       "      <td>134</td>\n",
       "      <td>30</td>\n",
       "      <td>1:25.960</td>\n",
       "      <td>1:25.518</td>\n",
       "      <td>1:27.236</td>\n",
       "      <td>2008.0</td>\n",
       "    </tr>\n",
       "    <tr>\n",
       "      <th>2</th>\n",
       "      <td>3</td>\n",
       "      <td>18</td>\n",
       "      <td>3</td>\n",
       "      <td>3</td>\n",
       "      <td>7</td>\n",
       "      <td>7</td>\n",
       "      <td>3</td>\n",
       "      <td>6.0</td>\n",
       "      <td>58</td>\n",
       "      <td>+8.163</td>\n",
       "      <td>...</td>\n",
       "      <td>216.719</td>\n",
       "      <td>1</td>\n",
       "      <td>2008-03-16</td>\n",
       "      <td>1</td>\n",
       "      <td>36</td>\n",
       "      <td>22</td>\n",
       "      <td>1:26.295</td>\n",
       "      <td>1:26.059</td>\n",
       "      <td>1:28.687</td>\n",
       "      <td>2008.0</td>\n",
       "    </tr>\n",
       "    <tr>\n",
       "      <th>3</th>\n",
       "      <td>4</td>\n",
       "      <td>18</td>\n",
       "      <td>4</td>\n",
       "      <td>4</td>\n",
       "      <td>5</td>\n",
       "      <td>11</td>\n",
       "      <td>4</td>\n",
       "      <td>5.0</td>\n",
       "      <td>58</td>\n",
       "      <td>+17.181</td>\n",
       "      <td>...</td>\n",
       "      <td>215.464</td>\n",
       "      <td>1</td>\n",
       "      <td>2008-03-16</td>\n",
       "      <td>1</td>\n",
       "      <td>106</td>\n",
       "      <td>26</td>\n",
       "      <td>1:26.907</td>\n",
       "      <td>1:26.188</td>\n",
       "      <td>0</td>\n",
       "      <td>2008.0</td>\n",
       "    </tr>\n",
       "    <tr>\n",
       "      <th>4</th>\n",
       "      <td>5</td>\n",
       "      <td>18</td>\n",
       "      <td>5</td>\n",
       "      <td>1</td>\n",
       "      <td>23</td>\n",
       "      <td>3</td>\n",
       "      <td>5</td>\n",
       "      <td>4.0</td>\n",
       "      <td>58</td>\n",
       "      <td>+18.014</td>\n",
       "      <td>...</td>\n",
       "      <td>218.385</td>\n",
       "      <td>1</td>\n",
       "      <td>2008-03-16</td>\n",
       "      <td>1</td>\n",
       "      <td>18</td>\n",
       "      <td>26</td>\n",
       "      <td>1:25.664</td>\n",
       "      <td>1:25.452</td>\n",
       "      <td>1:27.079</td>\n",
       "      <td>2008.0</td>\n",
       "    </tr>\n",
       "    <tr>\n",
       "      <th>...</th>\n",
       "      <td>...</td>\n",
       "      <td>...</td>\n",
       "      <td>...</td>\n",
       "      <td>...</td>\n",
       "      <td>...</td>\n",
       "      <td>...</td>\n",
       "      <td>...</td>\n",
       "      <td>...</td>\n",
       "      <td>...</td>\n",
       "      <td>...</td>\n",
       "      <td>...</td>\n",
       "      <td>...</td>\n",
       "      <td>...</td>\n",
       "      <td>...</td>\n",
       "      <td>...</td>\n",
       "      <td>...</td>\n",
       "      <td>...</td>\n",
       "      <td>...</td>\n",
       "      <td>...</td>\n",
       "      <td>...</td>\n",
       "      <td>...</td>\n",
       "    </tr>\n",
       "    <tr>\n",
       "      <th>27132</th>\n",
       "      <td>26520</td>\n",
       "      <td>1132</td>\n",
       "      <td>839</td>\n",
       "      <td>214</td>\n",
       "      <td>31</td>\n",
       "      <td>18</td>\n",
       "      <td>16</td>\n",
       "      <td>0.0</td>\n",
       "      <td>50</td>\n",
       "      <td>\\N</td>\n",
       "      <td>...</td>\n",
       "      <td>233.371</td>\n",
       "      <td>12</td>\n",
       "      <td>2024-07-07</td>\n",
       "      <td>9</td>\n",
       "      <td>145</td>\n",
       "      <td>27</td>\n",
       "      <td>1:34.557</td>\n",
       "      <td>0</td>\n",
       "      <td>0</td>\n",
       "      <td>2024.0</td>\n",
       "    </tr>\n",
       "    <tr>\n",
       "      <th>27133</th>\n",
       "      <td>26521</td>\n",
       "      <td>1132</td>\n",
       "      <td>815</td>\n",
       "      <td>9</td>\n",
       "      <td>11</td>\n",
       "      <td>0</td>\n",
       "      <td>17</td>\n",
       "      <td>0.0</td>\n",
       "      <td>50</td>\n",
       "      <td>\\N</td>\n",
       "      <td>...</td>\n",
       "      <td>236.409</td>\n",
       "      <td>12</td>\n",
       "      <td>2024-07-07</td>\n",
       "      <td>9</td>\n",
       "      <td>271</td>\n",
       "      <td>34</td>\n",
       "      <td>1:38.348</td>\n",
       "      <td>0</td>\n",
       "      <td>0</td>\n",
       "      <td>2024.0</td>\n",
       "    </tr>\n",
       "    <tr>\n",
       "      <th>27134</th>\n",
       "      <td>26522</td>\n",
       "      <td>1132</td>\n",
       "      <td>855</td>\n",
       "      <td>15</td>\n",
       "      <td>24</td>\n",
       "      <td>14</td>\n",
       "      <td>18</td>\n",
       "      <td>0.0</td>\n",
       "      <td>50</td>\n",
       "      <td>\\N</td>\n",
       "      <td>...</td>\n",
       "      <td>233.014</td>\n",
       "      <td>12</td>\n",
       "      <td>2024-07-07</td>\n",
       "      <td>9</td>\n",
       "      <td>56</td>\n",
       "      <td>25</td>\n",
       "      <td>1:31.190</td>\n",
       "      <td>1:27.867</td>\n",
       "      <td>0</td>\n",
       "      <td>2024.0</td>\n",
       "    </tr>\n",
       "    <tr>\n",
       "      <th>27135</th>\n",
       "      <td>26523</td>\n",
       "      <td>1132</td>\n",
       "      <td>847</td>\n",
       "      <td>131</td>\n",
       "      <td>63</td>\n",
       "      <td>1</td>\n",
       "      <td>19</td>\n",
       "      <td>0.0</td>\n",
       "      <td>33</td>\n",
       "      <td>\\N</td>\n",
       "      <td>...</td>\n",
       "      <td>232.289</td>\n",
       "      <td>34</td>\n",
       "      <td>2024-07-07</td>\n",
       "      <td>9</td>\n",
       "      <td>116</td>\n",
       "      <td>26</td>\n",
       "      <td>1:30.106</td>\n",
       "      <td>1:26.723</td>\n",
       "      <td>1:25.819</td>\n",
       "      <td>2024.0</td>\n",
       "    </tr>\n",
       "    <tr>\n",
       "      <th>27136</th>\n",
       "      <td>26524</td>\n",
       "      <td>1132</td>\n",
       "      <td>842</td>\n",
       "      <td>214</td>\n",
       "      <td>10</td>\n",
       "      <td>19</td>\n",
       "      <td>20</td>\n",
       "      <td>0.0</td>\n",
       "      <td>0</td>\n",
       "      <td>\\N</td>\n",
       "      <td>...</td>\n",
       "      <td>0.000</td>\n",
       "      <td>6</td>\n",
       "      <td>2024-07-07</td>\n",
       "      <td>9</td>\n",
       "      <td>142</td>\n",
       "      <td>28</td>\n",
       "      <td>1:39.804</td>\n",
       "      <td>0</td>\n",
       "      <td>0</td>\n",
       "      <td>2024.0</td>\n",
       "    </tr>\n",
       "  </tbody>\n",
       "</table>\n",
       "<p>8388 rows × 24 columns</p>\n",
       "</div>"
      ],
      "text/plain": [
       "       resultId  raceId  driverId  constructorId number  grid  positionOrder  \\\n",
       "0             1      18         1              1     22     1              1   \n",
       "1             2      18         2              2      3     5              2   \n",
       "2             3      18         3              3      7     7              3   \n",
       "3             4      18         4              4      5    11              4   \n",
       "4             5      18         5              1     23     3              5   \n",
       "...         ...     ...       ...            ...    ...   ...            ...   \n",
       "27132     26520    1132       839            214     31    18             16   \n",
       "27133     26521    1132       815              9     11     0             17   \n",
       "27134     26522    1132       855             15     24    14             18   \n",
       "27135     26523    1132       847            131     63     1             19   \n",
       "27136     26524    1132       842            214     10    19             20   \n",
       "\n",
       "       points  laps         time  ...  fastestLapSpeed statusId        date  \\\n",
       "0        10.0    58  1:34:50.616  ...          218.300        1  2008-03-16   \n",
       "1         8.0    58       +5.478  ...          217.586        1  2008-03-16   \n",
       "2         6.0    58       +8.163  ...          216.719        1  2008-03-16   \n",
       "3         5.0    58      +17.181  ...          215.464        1  2008-03-16   \n",
       "4         4.0    58      +18.014  ...          218.385        1  2008-03-16   \n",
       "...       ...   ...          ...  ...              ...      ...         ...   \n",
       "27132     0.0    50           \\N  ...          233.371       12  2024-07-07   \n",
       "27133     0.0    50           \\N  ...          236.409       12  2024-07-07   \n",
       "27134     0.0    50           \\N  ...          233.014       12  2024-07-07   \n",
       "27135     0.0    33           \\N  ...          232.289       34  2024-07-07   \n",
       "27136     0.0     0           \\N  ...            0.000        6  2024-07-07   \n",
       "\n",
       "      circuitId  driverXpRace  driverAge        q1        q2        q3    year  \n",
       "0             1            18         23  1:26.572  1:25.187  1:26.714  2008.0  \n",
       "1             1           134         30  1:25.960  1:25.518  1:27.236  2008.0  \n",
       "2             1            36         22  1:26.295  1:26.059  1:28.687  2008.0  \n",
       "3             1           106         26  1:26.907  1:26.188         0  2008.0  \n",
       "4             1            18         26  1:25.664  1:25.452  1:27.079  2008.0  \n",
       "...         ...           ...        ...       ...       ...       ...     ...  \n",
       "27132         9           145         27  1:34.557         0         0  2024.0  \n",
       "27133         9           271         34  1:38.348         0         0  2024.0  \n",
       "27134         9            56         25  1:31.190  1:27.867         0  2024.0  \n",
       "27135         9           116         26  1:30.106  1:26.723  1:25.819  2024.0  \n",
       "27136         9           142         28  1:39.804         0         0  2024.0  \n",
       "\n",
       "[8388 rows x 24 columns]"
      ]
     },
     "execution_count": 176,
     "metadata": {},
     "output_type": "execute_result"
    }
   ],
   "source": [
    "df_train"
   ]
  },
  {
   "cell_type": "code",
   "execution_count": 177,
   "metadata": {
    "colab": {
     "base_uri": "https://localhost:8080/",
     "height": 419
    },
    "id": "XiepDU2kMQDt",
    "outputId": "4faf5925-69e2-4bff-88b9-75f4c96e488d"
   },
   "outputs": [
    {
     "data": {
      "text/html": [
       "<div>\n",
       "<style scoped>\n",
       "    .dataframe tbody tr th:only-of-type {\n",
       "        vertical-align: middle;\n",
       "    }\n",
       "\n",
       "    .dataframe tbody tr th {\n",
       "        vertical-align: top;\n",
       "    }\n",
       "\n",
       "    .dataframe thead th {\n",
       "        text-align: right;\n",
       "    }\n",
       "</style>\n",
       "<table border=\"1\" class=\"dataframe\">\n",
       "  <thead>\n",
       "    <tr style=\"text-align: right;\">\n",
       "      <th></th>\n",
       "      <th>raceId</th>\n",
       "      <th>date</th>\n",
       "      <th>resultId</th>\n",
       "    </tr>\n",
       "  </thead>\n",
       "  <tbody>\n",
       "    <tr>\n",
       "      <th>0</th>\n",
       "      <td>18</td>\n",
       "      <td>2008-03-16</td>\n",
       "      <td>1</td>\n",
       "    </tr>\n",
       "    <tr>\n",
       "      <th>1</th>\n",
       "      <td>18</td>\n",
       "      <td>2008-03-16</td>\n",
       "      <td>2</td>\n",
       "    </tr>\n",
       "    <tr>\n",
       "      <th>2</th>\n",
       "      <td>18</td>\n",
       "      <td>2008-03-16</td>\n",
       "      <td>3</td>\n",
       "    </tr>\n",
       "    <tr>\n",
       "      <th>3</th>\n",
       "      <td>18</td>\n",
       "      <td>2008-03-16</td>\n",
       "      <td>4</td>\n",
       "    </tr>\n",
       "    <tr>\n",
       "      <th>4</th>\n",
       "      <td>18</td>\n",
       "      <td>2008-03-16</td>\n",
       "      <td>5</td>\n",
       "    </tr>\n",
       "    <tr>\n",
       "      <th>...</th>\n",
       "      <td>...</td>\n",
       "      <td>...</td>\n",
       "      <td>...</td>\n",
       "    </tr>\n",
       "    <tr>\n",
       "      <th>27132</th>\n",
       "      <td>1132</td>\n",
       "      <td>2024-07-07</td>\n",
       "      <td>26520</td>\n",
       "    </tr>\n",
       "    <tr>\n",
       "      <th>27133</th>\n",
       "      <td>1132</td>\n",
       "      <td>2024-07-07</td>\n",
       "      <td>26521</td>\n",
       "    </tr>\n",
       "    <tr>\n",
       "      <th>27134</th>\n",
       "      <td>1132</td>\n",
       "      <td>2024-07-07</td>\n",
       "      <td>26522</td>\n",
       "    </tr>\n",
       "    <tr>\n",
       "      <th>27135</th>\n",
       "      <td>1132</td>\n",
       "      <td>2024-07-07</td>\n",
       "      <td>26523</td>\n",
       "    </tr>\n",
       "    <tr>\n",
       "      <th>27136</th>\n",
       "      <td>1132</td>\n",
       "      <td>2024-07-07</td>\n",
       "      <td>26524</td>\n",
       "    </tr>\n",
       "  </tbody>\n",
       "</table>\n",
       "<p>8388 rows × 3 columns</p>\n",
       "</div>"
      ],
      "text/plain": [
       "       raceId        date  resultId\n",
       "0          18  2008-03-16         1\n",
       "1          18  2008-03-16         2\n",
       "2          18  2008-03-16         3\n",
       "3          18  2008-03-16         4\n",
       "4          18  2008-03-16         5\n",
       "...       ...         ...       ...\n",
       "27132    1132  2024-07-07     26520\n",
       "27133    1132  2024-07-07     26521\n",
       "27134    1132  2024-07-07     26522\n",
       "27135    1132  2024-07-07     26523\n",
       "27136    1132  2024-07-07     26524\n",
       "\n",
       "[8388 rows x 3 columns]"
      ]
     },
     "execution_count": 177,
     "metadata": {},
     "output_type": "execute_result"
    }
   ],
   "source": [
    "df_train.loc[:, ['raceId', 'date', 'resultId']].drop_duplicates(subset=['resultId'])"
   ]
  },
  {
   "cell_type": "code",
   "execution_count": 178,
   "metadata": {
    "id": "PC_CWgXkMWEE"
   },
   "outputs": [],
   "source": [
    "def minutes_to_seconds(time):\n",
    "    if pd.isnull(time):\n",
    "        return np.nan\n",
    "    if type(time) != int:\n",
    "        minutes, seconds = time.split(':')\n",
    "        total_seconds = int(minutes) * 60 + float(seconds)\n",
    "        return total_seconds\n",
    "\n",
    "\n",
    "columns = ['q1', 'q2', 'q3']\n",
    "\n",
    "for column in columns:\n",
    "    df_train[column] = df_train[column].replace('\\\\N', np.nan)\n",
    "    df_train[column] = df_train[column].apply(minutes_to_seconds)"
   ]
  },
  {
   "cell_type": "code",
   "execution_count": 179,
   "metadata": {
    "colab": {
     "base_uri": "https://localhost:8080/"
    },
    "id": "-1hMEwf-TYaA",
    "outputId": "1665e65d-d819-481a-eaa7-5bb396c5aecd"
   },
   "outputs": [
    {
     "name": "stdout",
     "output_type": "stream",
     "text": [
      "<class 'pandas.core.frame.DataFrame'>\n",
      "Index: 8388 entries, 0 to 27136\n",
      "Data columns (total 24 columns):\n",
      " #   Column           Non-Null Count  Dtype  \n",
      "---  ------           --------------  -----  \n",
      " 0   resultId         8388 non-null   int64  \n",
      " 1   raceId           8388 non-null   int64  \n",
      " 2   driverId         8388 non-null   int64  \n",
      " 3   constructorId    8388 non-null   int64  \n",
      " 4   number           8388 non-null   object \n",
      " 5   grid             8388 non-null   int64  \n",
      " 6   positionOrder    8388 non-null   int64  \n",
      " 7   points           8388 non-null   float64\n",
      " 8   laps             8388 non-null   int64  \n",
      " 9   time             8388 non-null   object \n",
      " 10  milliseconds     8388 non-null   float64\n",
      " 11  fastestLap       8388 non-null   object \n",
      " 12  rank             8388 non-null   object \n",
      " 13  fastestLapTime   8388 non-null   object \n",
      " 14  fastestLapSpeed  8388 non-null   float64\n",
      " 15  statusId         8388 non-null   int64  \n",
      " 16  date             8388 non-null   object \n",
      " 17  circuitId        8388 non-null   int64  \n",
      " 18  driverXpRace     8388 non-null   int64  \n",
      " 19  driverAge        8388 non-null   int64  \n",
      " 20  q1               8308 non-null   float64\n",
      " 21  q2               5562 non-null   float64\n",
      " 22  q3               3514 non-null   float64\n",
      " 23  year             8388 non-null   float64\n",
      "dtypes: float64(7), int64(11), object(6)\n",
      "memory usage: 1.6+ MB\n"
     ]
    }
   ],
   "source": [
    "df_train.info()"
   ]
  },
  {
   "cell_type": "code",
   "execution_count": 180,
   "metadata": {
    "id": "IOK7oUtfTfCd"
   },
   "outputs": [],
   "source": [
    "df_train['fastestLap'] = df_train['fastestLap'].replace('\\\\N',0)\n",
    "df_train['fastestLap'] = df_train['fastestLap'].astype(int)"
   ]
  },
  {
   "cell_type": "code",
   "execution_count": 181,
   "metadata": {
    "id": "llPOyGHdTwwd"
   },
   "outputs": [],
   "source": [
    "# q1, q2, q3 null values fill with 0\n",
    "df_train[columns] = df_train[columns].fillna(0)"
   ]
  },
  {
   "cell_type": "code",
   "execution_count": 182,
   "metadata": {
    "colab": {
     "base_uri": "https://localhost:8080/",
     "height": 453
    },
    "id": "yzgtj9iZUVXl",
    "outputId": "6cf94560-a3f9-4b22-fbc7-e80e1fb76505"
   },
   "outputs": [
    {
     "data": {
      "text/plain": [
       "0        1:27.452\n",
       "1        1:27.739\n",
       "2        1:28.090\n",
       "3        1:28.603\n",
       "4        1:27.418\n",
       "           ...   \n",
       "27132    1:30.875\n",
       "27133    1:29.707\n",
       "27134    1:31.014\n",
       "27135    1:31.298\n",
       "27136           0\n",
       "Name: fastestLapTime, Length: 8388, dtype: object"
      ]
     },
     "execution_count": 182,
     "metadata": {},
     "output_type": "execute_result"
    }
   ],
   "source": [
    "df_train['fastestLapTime']"
   ]
  },
  {
   "cell_type": "code",
   "execution_count": 183,
   "metadata": {
    "id": "TO4laTOuUg5u"
   },
   "outputs": [],
   "source": [
    "df_train['fastestLapTime'] = df_train['fastestLapTime'].replace('\\\\N', np.nan)\n",
    "df_train['fastestLapTime'] = df_train['fastestLapTime'].apply(minutes_to_seconds)\n"
   ]
  },
  {
   "cell_type": "code",
   "execution_count": 184,
   "metadata": {
    "id": "SAXcqjM5VM34"
   },
   "outputs": [],
   "source": [
    "df_train['fastestLapTime'] = df_train['fastestLapTime'].fillna(0)"
   ]
  },
  {
   "cell_type": "code",
   "execution_count": 185,
   "metadata": {
    "colab": {
     "base_uri": "https://localhost:8080/",
     "height": 453
    },
    "id": "FMnR-UBOUmM8",
    "outputId": "4e3df7de-a0f4-48da-e6bf-2abec24a4374"
   },
   "outputs": [
    {
     "data": {
      "text/plain": [
       "0        87.452\n",
       "1        87.739\n",
       "2        88.090\n",
       "3        88.603\n",
       "4        87.418\n",
       "          ...  \n",
       "27132    90.875\n",
       "27133    89.707\n",
       "27134    91.014\n",
       "27135    91.298\n",
       "27136     0.000\n",
       "Name: fastestLapTime, Length: 8388, dtype: float64"
      ]
     },
     "execution_count": 185,
     "metadata": {},
     "output_type": "execute_result"
    }
   ],
   "source": [
    "df_train['fastestLapTime']\n"
   ]
  },
  {
   "cell_type": "code",
   "execution_count": 186,
   "metadata": {
    "id": "PpJZUorxVZcv"
   },
   "outputs": [],
   "source": [
    "df_train['rank'] = df_train['rank'].replace('\\\\N', 0)\n",
    "\n",
    "df_train['rank'] = df_train['rank'].astype(int)"
   ]
  },
  {
   "cell_type": "code",
   "execution_count": 187,
   "metadata": {
    "id": "S9e7cDamVQAn"
   },
   "outputs": [],
   "source": [
    "df_train.drop(['date', 'time', 'number'],axis=1, inplace=True)\n"
   ]
  },
  {
   "cell_type": "code",
   "execution_count": 188,
   "metadata": {
    "id": "V3D6HoTxWnrQ"
   },
   "outputs": [],
   "source": [
    "\n",
    "import seaborn as sns\n",
    "import matplotlib.pyplot as plt"
   ]
  },
  {
   "cell_type": "code",
   "execution_count": 189,
   "metadata": {
    "colab": {
     "base_uri": "https://localhost:8080/",
     "height": 863
    },
    "id": "lKFZuUlWWRfW",
    "outputId": "23337494-4b78-46d7-d5a6-3d6eee1d9b85"
   },
   "outputs": [
    {
     "data": {
      "text/plain": [
       "<Axes: >"
      ]
     },
     "execution_count": 189,
     "metadata": {},
     "output_type": "execute_result"
    },
    {
     "data": {
      "image/png": "[encoded data removed]",
      "text/plain": [
       "<Figure size 1700x1200 with 2 Axes>"
      ]
     },
     "metadata": {},
     "output_type": "display_data"
    }
   ],
   "source": [
    "plt.figure(figsize=(17,12))\n",
    "\n",
    "sns.heatmap(df_train.corr(),annot=True)"
   ]
  },
  {
   "cell_type": "code",
   "execution_count": 190,
   "metadata": {
    "id": "aHi3oWEdY6_f"
   },
   "outputs": [],
   "source": [
    "# df_train['class']= df_train['positionOrder'].apply(lambda x: 0 if 1 <= x <= 3 else (1 if x <= 10 else 2))\n",
    "df_train['class']= df_train['positionOrder'].apply(lambda x: 0 if 1 <= x <= 3 else 1)\n"
   ]
  },
  {
   "cell_type": "code",
   "execution_count": 191,
   "metadata": {
    "id": "XqEm1M0HUGo9"
   },
   "outputs": [],
   "source": [
    "# information only before race starts\n",
    "df_train.drop(['fastestLapTime', 'fastestLapSpeed', 'statusId','points','milliseconds','fastestLap','positionOrder'],axis=1, inplace=True)"
   ]
  },
  {
   "cell_type": "code",
   "execution_count": 192,
   "metadata": {
    "colab": {
     "base_uri": "https://localhost:8080/",
     "height": 439
    },
    "id": "ch5Xv4cnXIng",
    "outputId": "d890e2c6-690f-4508-b46a-0244ca7a8f83"
   },
   "outputs": [
    {
     "data": {
      "text/html": [
       "<div>\n",
       "<style scoped>\n",
       "    .dataframe tbody tr th:only-of-type {\n",
       "        vertical-align: middle;\n",
       "    }\n",
       "\n",
       "    .dataframe tbody tr th {\n",
       "        vertical-align: top;\n",
       "    }\n",
       "\n",
       "    .dataframe thead th {\n",
       "        text-align: right;\n",
       "    }\n",
       "</style>\n",
       "<table border=\"1\" class=\"dataframe\">\n",
       "  <thead>\n",
       "    <tr style=\"text-align: right;\">\n",
       "      <th></th>\n",
       "      <th>resultId</th>\n",
       "      <th>raceId</th>\n",
       "      <th>driverId</th>\n",
       "      <th>constructorId</th>\n",
       "      <th>grid</th>\n",
       "      <th>laps</th>\n",
       "      <th>rank</th>\n",
       "      <th>circuitId</th>\n",
       "      <th>driverXpRace</th>\n",
       "      <th>driverAge</th>\n",
       "      <th>q1</th>\n",
       "      <th>q2</th>\n",
       "      <th>q3</th>\n",
       "      <th>year</th>\n",
       "      <th>class</th>\n",
       "    </tr>\n",
       "  </thead>\n",
       "  <tbody>\n",
       "    <tr>\n",
       "      <th>0</th>\n",
       "      <td>1</td>\n",
       "      <td>18</td>\n",
       "      <td>1</td>\n",
       "      <td>1</td>\n",
       "      <td>1</td>\n",
       "      <td>58</td>\n",
       "      <td>2</td>\n",
       "      <td>1</td>\n",
       "      <td>18</td>\n",
       "      <td>23</td>\n",
       "      <td>86.572</td>\n",
       "      <td>85.187</td>\n",
       "      <td>86.714</td>\n",
       "      <td>2008.0</td>\n",
       "      <td>0</td>\n",
       "    </tr>\n",
       "    <tr>\n",
       "      <th>1</th>\n",
       "      <td>2</td>\n",
       "      <td>18</td>\n",
       "      <td>2</td>\n",
       "      <td>2</td>\n",
       "      <td>5</td>\n",
       "      <td>58</td>\n",
       "      <td>3</td>\n",
       "      <td>1</td>\n",
       "      <td>134</td>\n",
       "      <td>30</td>\n",
       "      <td>85.960</td>\n",
       "      <td>85.518</td>\n",
       "      <td>87.236</td>\n",
       "      <td>2008.0</td>\n",
       "      <td>0</td>\n",
       "    </tr>\n",
       "    <tr>\n",
       "      <th>2</th>\n",
       "      <td>3</td>\n",
       "      <td>18</td>\n",
       "      <td>3</td>\n",
       "      <td>3</td>\n",
       "      <td>7</td>\n",
       "      <td>58</td>\n",
       "      <td>5</td>\n",
       "      <td>1</td>\n",
       "      <td>36</td>\n",
       "      <td>22</td>\n",
       "      <td>86.295</td>\n",
       "      <td>86.059</td>\n",
       "      <td>88.687</td>\n",
       "      <td>2008.0</td>\n",
       "      <td>0</td>\n",
       "    </tr>\n",
       "    <tr>\n",
       "      <th>3</th>\n",
       "      <td>4</td>\n",
       "      <td>18</td>\n",
       "      <td>4</td>\n",
       "      <td>4</td>\n",
       "      <td>11</td>\n",
       "      <td>58</td>\n",
       "      <td>7</td>\n",
       "      <td>1</td>\n",
       "      <td>106</td>\n",
       "      <td>26</td>\n",
       "      <td>86.907</td>\n",
       "      <td>86.188</td>\n",
       "      <td>0.000</td>\n",
       "      <td>2008.0</td>\n",
       "      <td>1</td>\n",
       "    </tr>\n",
       "    <tr>\n",
       "      <th>4</th>\n",
       "      <td>5</td>\n",
       "      <td>18</td>\n",
       "      <td>5</td>\n",
       "      <td>1</td>\n",
       "      <td>3</td>\n",
       "      <td>58</td>\n",
       "      <td>1</td>\n",
       "      <td>1</td>\n",
       "      <td>18</td>\n",
       "      <td>26</td>\n",
       "      <td>85.664</td>\n",
       "      <td>85.452</td>\n",
       "      <td>87.079</td>\n",
       "      <td>2008.0</td>\n",
       "      <td>1</td>\n",
       "    </tr>\n",
       "    <tr>\n",
       "      <th>...</th>\n",
       "      <td>...</td>\n",
       "      <td>...</td>\n",
       "      <td>...</td>\n",
       "      <td>...</td>\n",
       "      <td>...</td>\n",
       "      <td>...</td>\n",
       "      <td>...</td>\n",
       "      <td>...</td>\n",
       "      <td>...</td>\n",
       "      <td>...</td>\n",
       "      <td>...</td>\n",
       "      <td>...</td>\n",
       "      <td>...</td>\n",
       "      <td>...</td>\n",
       "      <td>...</td>\n",
       "    </tr>\n",
       "    <tr>\n",
       "      <th>27132</th>\n",
       "      <td>26520</td>\n",
       "      <td>1132</td>\n",
       "      <td>839</td>\n",
       "      <td>214</td>\n",
       "      <td>18</td>\n",
       "      <td>50</td>\n",
       "      <td>16</td>\n",
       "      <td>9</td>\n",
       "      <td>145</td>\n",
       "      <td>27</td>\n",
       "      <td>94.557</td>\n",
       "      <td>0.000</td>\n",
       "      <td>0.000</td>\n",
       "      <td>2024.0</td>\n",
       "      <td>1</td>\n",
       "    </tr>\n",
       "    <tr>\n",
       "      <th>27133</th>\n",
       "      <td>26521</td>\n",
       "      <td>1132</td>\n",
       "      <td>815</td>\n",
       "      <td>9</td>\n",
       "      <td>0</td>\n",
       "      <td>50</td>\n",
       "      <td>6</td>\n",
       "      <td>9</td>\n",
       "      <td>271</td>\n",
       "      <td>34</td>\n",
       "      <td>98.348</td>\n",
       "      <td>0.000</td>\n",
       "      <td>0.000</td>\n",
       "      <td>2024.0</td>\n",
       "      <td>1</td>\n",
       "    </tr>\n",
       "    <tr>\n",
       "      <th>27134</th>\n",
       "      <td>26522</td>\n",
       "      <td>1132</td>\n",
       "      <td>855</td>\n",
       "      <td>15</td>\n",
       "      <td>14</td>\n",
       "      <td>50</td>\n",
       "      <td>17</td>\n",
       "      <td>9</td>\n",
       "      <td>56</td>\n",
       "      <td>25</td>\n",
       "      <td>91.190</td>\n",
       "      <td>87.867</td>\n",
       "      <td>0.000</td>\n",
       "      <td>2024.0</td>\n",
       "      <td>1</td>\n",
       "    </tr>\n",
       "    <tr>\n",
       "      <th>27135</th>\n",
       "      <td>26523</td>\n",
       "      <td>1132</td>\n",
       "      <td>847</td>\n",
       "      <td>131</td>\n",
       "      <td>1</td>\n",
       "      <td>33</td>\n",
       "      <td>19</td>\n",
       "      <td>9</td>\n",
       "      <td>116</td>\n",
       "      <td>26</td>\n",
       "      <td>90.106</td>\n",
       "      <td>86.723</td>\n",
       "      <td>85.819</td>\n",
       "      <td>2024.0</td>\n",
       "      <td>1</td>\n",
       "    </tr>\n",
       "    <tr>\n",
       "      <th>27136</th>\n",
       "      <td>26524</td>\n",
       "      <td>1132</td>\n",
       "      <td>842</td>\n",
       "      <td>214</td>\n",
       "      <td>19</td>\n",
       "      <td>0</td>\n",
       "      <td>0</td>\n",
       "      <td>9</td>\n",
       "      <td>142</td>\n",
       "      <td>28</td>\n",
       "      <td>99.804</td>\n",
       "      <td>0.000</td>\n",
       "      <td>0.000</td>\n",
       "      <td>2024.0</td>\n",
       "      <td>1</td>\n",
       "    </tr>\n",
       "  </tbody>\n",
       "</table>\n",
       "<p>8388 rows × 15 columns</p>\n",
       "</div>"
      ],
      "text/plain": [
       "       resultId  raceId  driverId  constructorId  grid  laps  rank  circuitId  \\\n",
       "0             1      18         1              1     1    58     2          1   \n",
       "1             2      18         2              2     5    58     3          1   \n",
       "2             3      18         3              3     7    58     5          1   \n",
       "3             4      18         4              4    11    58     7          1   \n",
       "4             5      18         5              1     3    58     1          1   \n",
       "...         ...     ...       ...            ...   ...   ...   ...        ...   \n",
       "27132     26520    1132       839            214    18    50    16          9   \n",
       "27133     26521    1132       815              9     0    50     6          9   \n",
       "27134     26522    1132       855             15    14    50    17          9   \n",
       "27135     26523    1132       847            131     1    33    19          9   \n",
       "27136     26524    1132       842            214    19     0     0          9   \n",
       "\n",
       "       driverXpRace  driverAge      q1      q2      q3    year  class  \n",
       "0                18         23  86.572  85.187  86.714  2008.0      0  \n",
       "1               134         30  85.960  85.518  87.236  2008.0      0  \n",
       "2                36         22  86.295  86.059  88.687  2008.0      0  \n",
       "3               106         26  86.907  86.188   0.000  2008.0      1  \n",
       "4                18         26  85.664  85.452  87.079  2008.0      1  \n",
       "...             ...        ...     ...     ...     ...     ...    ...  \n",
       "27132           145         27  94.557   0.000   0.000  2024.0      1  \n",
       "27133           271         34  98.348   0.000   0.000  2024.0      1  \n",
       "27134            56         25  91.190  87.867   0.000  2024.0      1  \n",
       "27135           116         26  90.106  86.723  85.819  2024.0      1  \n",
       "27136           142         28  99.804   0.000   0.000  2024.0      1  \n",
       "\n",
       "[8388 rows x 15 columns]"
      ]
     },
     "execution_count": 192,
     "metadata": {},
     "output_type": "execute_result"
    }
   ],
   "source": [
    "df_train"
   ]
  },
  {
   "cell_type": "code",
   "execution_count": 193,
   "metadata": {
    "colab": {
     "base_uri": "https://localhost:8080/"
    },
    "id": "cm-X0F1bZQqG",
    "outputId": "1cec6781-1753-40bd-ff64-e9d2c99f322a"
   },
   "outputs": [
    {
     "data": {
      "text/plain": [
       "(8388, 10)"
      ]
     },
     "execution_count": 193,
     "metadata": {},
     "output_type": "execute_result"
    }
   ],
   "source": [
    "from sklearn.feature_selection import SelectKBest, chi2\n",
    "selector = SelectKBest(chi2, k=10)\n",
    "X_new = selector.fit_transform(df_train.drop(['class'], axis=1), df_train['class'])\n",
    "X_new.shape"
   ]
  },
  {
   "cell_type": "code",
   "execution_count": 194,
   "metadata": {
    "id": "wLlmI2xkZcjZ"
   },
   "outputs": [],
   "source": [
    "cols_idxs = selector.get_support(indices=True)\n"
   ]
  },
  {
   "cell_type": "code",
   "execution_count": 195,
   "metadata": {
    "colab": {
     "base_uri": "https://localhost:8080/",
     "height": 419
    },
    "id": "YKzn9RexZeQe",
    "outputId": "42218a5e-1d01-4169-d170-4f997d5cb730"
   },
   "outputs": [
    {
     "data": {
      "text/html": [
       "<div>\n",
       "<style scoped>\n",
       "    .dataframe tbody tr th:only-of-type {\n",
       "        vertical-align: middle;\n",
       "    }\n",
       "\n",
       "    .dataframe tbody tr th {\n",
       "        vertical-align: top;\n",
       "    }\n",
       "\n",
       "    .dataframe thead th {\n",
       "        text-align: right;\n",
       "    }\n",
       "</style>\n",
       "<table border=\"1\" class=\"dataframe\">\n",
       "  <thead>\n",
       "    <tr style=\"text-align: right;\">\n",
       "      <th></th>\n",
       "      <th>resultId</th>\n",
       "      <th>raceId</th>\n",
       "      <th>driverId</th>\n",
       "      <th>constructorId</th>\n",
       "      <th>grid</th>\n",
       "      <th>laps</th>\n",
       "      <th>rank</th>\n",
       "      <th>driverXpRace</th>\n",
       "      <th>q2</th>\n",
       "      <th>q3</th>\n",
       "    </tr>\n",
       "  </thead>\n",
       "  <tbody>\n",
       "    <tr>\n",
       "      <th>0</th>\n",
       "      <td>1</td>\n",
       "      <td>18</td>\n",
       "      <td>1</td>\n",
       "      <td>1</td>\n",
       "      <td>1</td>\n",
       "      <td>58</td>\n",
       "      <td>2</td>\n",
       "      <td>18</td>\n",
       "      <td>85.187</td>\n",
       "      <td>86.714</td>\n",
       "    </tr>\n",
       "    <tr>\n",
       "      <th>1</th>\n",
       "      <td>2</td>\n",
       "      <td>18</td>\n",
       "      <td>2</td>\n",
       "      <td>2</td>\n",
       "      <td>5</td>\n",
       "      <td>58</td>\n",
       "      <td>3</td>\n",
       "      <td>134</td>\n",
       "      <td>85.518</td>\n",
       "      <td>87.236</td>\n",
       "    </tr>\n",
       "    <tr>\n",
       "      <th>2</th>\n",
       "      <td>3</td>\n",
       "      <td>18</td>\n",
       "      <td>3</td>\n",
       "      <td>3</td>\n",
       "      <td>7</td>\n",
       "      <td>58</td>\n",
       "      <td>5</td>\n",
       "      <td>36</td>\n",
       "      <td>86.059</td>\n",
       "      <td>88.687</td>\n",
       "    </tr>\n",
       "    <tr>\n",
       "      <th>3</th>\n",
       "      <td>4</td>\n",
       "      <td>18</td>\n",
       "      <td>4</td>\n",
       "      <td>4</td>\n",
       "      <td>11</td>\n",
       "      <td>58</td>\n",
       "      <td>7</td>\n",
       "      <td>106</td>\n",
       "      <td>86.188</td>\n",
       "      <td>0.000</td>\n",
       "    </tr>\n",
       "    <tr>\n",
       "      <th>4</th>\n",
       "      <td>5</td>\n",
       "      <td>18</td>\n",
       "      <td>5</td>\n",
       "      <td>1</td>\n",
       "      <td>3</td>\n",
       "      <td>58</td>\n",
       "      <td>1</td>\n",
       "      <td>18</td>\n",
       "      <td>85.452</td>\n",
       "      <td>87.079</td>\n",
       "    </tr>\n",
       "    <tr>\n",
       "      <th>...</th>\n",
       "      <td>...</td>\n",
       "      <td>...</td>\n",
       "      <td>...</td>\n",
       "      <td>...</td>\n",
       "      <td>...</td>\n",
       "      <td>...</td>\n",
       "      <td>...</td>\n",
       "      <td>...</td>\n",
       "      <td>...</td>\n",
       "      <td>...</td>\n",
       "    </tr>\n",
       "    <tr>\n",
       "      <th>27132</th>\n",
       "      <td>26520</td>\n",
       "      <td>1132</td>\n",
       "      <td>839</td>\n",
       "      <td>214</td>\n",
       "      <td>18</td>\n",
       "      <td>50</td>\n",
       "      <td>16</td>\n",
       "      <td>145</td>\n",
       "      <td>0.000</td>\n",
       "      <td>0.000</td>\n",
       "    </tr>\n",
       "    <tr>\n",
       "      <th>27133</th>\n",
       "      <td>26521</td>\n",
       "      <td>1132</td>\n",
       "      <td>815</td>\n",
       "      <td>9</td>\n",
       "      <td>0</td>\n",
       "      <td>50</td>\n",
       "      <td>6</td>\n",
       "      <td>271</td>\n",
       "      <td>0.000</td>\n",
       "      <td>0.000</td>\n",
       "    </tr>\n",
       "    <tr>\n",
       "      <th>27134</th>\n",
       "      <td>26522</td>\n",
       "      <td>1132</td>\n",
       "      <td>855</td>\n",
       "      <td>15</td>\n",
       "      <td>14</td>\n",
       "      <td>50</td>\n",
       "      <td>17</td>\n",
       "      <td>56</td>\n",
       "      <td>87.867</td>\n",
       "      <td>0.000</td>\n",
       "    </tr>\n",
       "    <tr>\n",
       "      <th>27135</th>\n",
       "      <td>26523</td>\n",
       "      <td>1132</td>\n",
       "      <td>847</td>\n",
       "      <td>131</td>\n",
       "      <td>1</td>\n",
       "      <td>33</td>\n",
       "      <td>19</td>\n",
       "      <td>116</td>\n",
       "      <td>86.723</td>\n",
       "      <td>85.819</td>\n",
       "    </tr>\n",
       "    <tr>\n",
       "      <th>27136</th>\n",
       "      <td>26524</td>\n",
       "      <td>1132</td>\n",
       "      <td>842</td>\n",
       "      <td>214</td>\n",
       "      <td>19</td>\n",
       "      <td>0</td>\n",
       "      <td>0</td>\n",
       "      <td>142</td>\n",
       "      <td>0.000</td>\n",
       "      <td>0.000</td>\n",
       "    </tr>\n",
       "  </tbody>\n",
       "</table>\n",
       "<p>8388 rows × 10 columns</p>\n",
       "</div>"
      ],
      "text/plain": [
       "       resultId  raceId  driverId  constructorId  grid  laps  rank  \\\n",
       "0             1      18         1              1     1    58     2   \n",
       "1             2      18         2              2     5    58     3   \n",
       "2             3      18         3              3     7    58     5   \n",
       "3             4      18         4              4    11    58     7   \n",
       "4             5      18         5              1     3    58     1   \n",
       "...         ...     ...       ...            ...   ...   ...   ...   \n",
       "27132     26520    1132       839            214    18    50    16   \n",
       "27133     26521    1132       815              9     0    50     6   \n",
       "27134     26522    1132       855             15    14    50    17   \n",
       "27135     26523    1132       847            131     1    33    19   \n",
       "27136     26524    1132       842            214    19     0     0   \n",
       "\n",
       "       driverXpRace      q2      q3  \n",
       "0                18  85.187  86.714  \n",
       "1               134  85.518  87.236  \n",
       "2                36  86.059  88.687  \n",
       "3               106  86.188   0.000  \n",
       "4                18  85.452  87.079  \n",
       "...             ...     ...     ...  \n",
       "27132           145   0.000   0.000  \n",
       "27133           271   0.000   0.000  \n",
       "27134            56  87.867   0.000  \n",
       "27135           116  86.723  85.819  \n",
       "27136           142   0.000   0.000  \n",
       "\n",
       "[8388 rows x 10 columns]"
      ]
     },
     "execution_count": 195,
     "metadata": {},
     "output_type": "execute_result"
    }
   ],
   "source": [
    "df= df_train.drop(['class'], axis=1).iloc[:,cols_idxs]\n",
    "df\n"
   ]
  },
  {
   "cell_type": "code",
   "execution_count": 196,
   "metadata": {
    "id": "AZnEQ0QGZlbj"
   },
   "outputs": [],
   "source": [
    "from sklearn.neighbors import KNeighborsClassifier\n",
    "from sklearn.model_selection import cross_val_score\n",
    "from sklearn.cluster import KMeans"
   ]
  },
  {
   "cell_type": "code",
   "execution_count": 197,
   "metadata": {
    "id": "Fy8hG7N1aAs-"
   },
   "outputs": [],
   "source": [
    "y = df_train['class']"
   ]
  },
  {
   "cell_type": "code",
   "execution_count": 198,
   "metadata": {
    "colab": {
     "base_uri": "https://localhost:8080/",
     "height": 447
    },
    "id": "GEghajlTaCnf",
    "outputId": "4c34c69b-c90f-4ec6-e2b4-0af93e4bd9c4"
   },
   "outputs": [
    {
     "data": {
      "text/plain": [
       "<Axes: >"
      ]
     },
     "execution_count": 198,
     "metadata": {},
     "output_type": "execute_result"
    },
    {
     "data": {
      "image/png": "[encoded data removed]",
      "text/plain": [
       "<Figure size 640x480 with 1 Axes>"
      ]
     },
     "metadata": {},
     "output_type": "display_data"
    }
   ],
   "source": [
    "y.hist()"
   ]
  },
  {
   "cell_type": "code",
   "execution_count": 199,
   "metadata": {
    "id": "fTHMMFbebBKa"
   },
   "outputs": [],
   "source": [
    "from sklearn.model_selection import train_test_split\n",
    "X_train, X_test, y_train, y_test = train_test_split(df, y, test_size=0.1, random_state=42)"
   ]
  },
  {
   "cell_type": "code",
   "execution_count": 200,
   "metadata": {
    "id": "jgOUNFowKavo"
   },
   "outputs": [],
   "source": [
    "from sklearn.metrics import accuracy_score, ConfusionMatrixDisplay,classification_report\n",
    "from sklearn.preprocessing import MinMaxScaler, StandardScaler\n",
    "from sklearn.model_selection import GridSearchCV\n",
    "from sklearn.metrics import accuracy_score"
   ]
  },
  {
   "cell_type": "code",
   "execution_count": 201,
   "metadata": {
    "id": "xCPufeC_bVyy"
   },
   "outputs": [],
   "source": [
    "scaler = StandardScaler()\n",
    "X_train_transformed = scaler.fit_transform(X_train)\n",
    "X_test_transformed = scaler.transform(X_test)"
   ]
  },
  {
   "cell_type": "markdown",
   "metadata": {
    "id": "K8cAIvMPOdoy"
   },
   "source": [
    "# Resampling the dataset to have the same number of classes."
   ]
  },
  {
   "cell_type": "code",
   "execution_count": 202,
   "metadata": {
    "id": "gosjrNNtiYpI"
   },
   "outputs": [],
   "source": [
    "# Define the desired ratios for each class\n",
    "ratios = {0: 1, 1: 1.15}\n",
    "\n",
    "# Calculate the sample size for each class based on the ratios\n",
    "sample_sizes = {}\n",
    "min_samples = y.value_counts().min()\n",
    "for class_label in y.unique():\n",
    "    sample_sizes[class_label] = int(ratios[class_label] * min_samples)\n",
    "\n",
    "# Create a new resampled DataFrame\n",
    "df_resampled = pd.DataFrame()\n",
    "for class_label in y.unique():\n",
    "    df_class = df_train[y == class_label]\n",
    "    df_class = df_class.sample(n=sample_sizes[class_label], random_state=42)\n",
    "    df_resampled = pd.concat([df_resampled, df_class])"
   ]
  },
  {
   "cell_type": "code",
   "execution_count": 203,
   "metadata": {
    "colab": {
     "base_uri": "https://localhost:8080/",
     "height": 176
    },
    "id": "u375L1k6L8MI",
    "outputId": "6cfeeacd-0fd2-476c-b116-6f21d9df7b95"
   },
   "outputs": [
    {
     "data": {
      "text/plain": [
       "class\n",
       "1    1369\n",
       "0    1191\n",
       "Name: count, dtype: int64"
      ]
     },
     "execution_count": 203,
     "metadata": {},
     "output_type": "execute_result"
    }
   ],
   "source": [
    "y_resampled = df_resampled['class']\n",
    "y_resampled.value_counts()"
   ]
  },
  {
   "cell_type": "code",
   "execution_count": 204,
   "metadata": {},
   "outputs": [
    {
     "data": {
      "text/plain": [
       "<Axes: >"
      ]
     },
     "execution_count": 204,
     "metadata": {},
     "output_type": "execute_result"
    },
    {
     "data": {
      "image/png": "[encoded data removed]",
      "text/plain": [
       "<Figure size 640x480 with 1 Axes>"
      ]
     },
     "metadata": {},
     "output_type": "display_data"
    }
   ],
   "source": [
    "df_resampled['class'].hist()"
   ]
  },
  {
   "cell_type": "code",
   "execution_count": 205,
   "metadata": {
    "id": "0AMM5R3gM4om"
   },
   "outputs": [],
   "source": [
    "X_resampled = df_resampled.drop('class', axis=1)"
   ]
  },
  {
   "cell_type": "code",
   "execution_count": 206,
   "metadata": {
    "colab": {
     "base_uri": "https://localhost:8080/"
    },
    "id": "BBFsbZBDM53c",
    "outputId": "f6a1f247-61f8-4963-d9c3-da11f7e33bd0"
   },
   "outputs": [
    {
     "data": {
      "text/plain": [
       "(2560, 10)"
      ]
     },
     "execution_count": 206,
     "metadata": {},
     "output_type": "execute_result"
    }
   ],
   "source": [
    "selector = SelectKBest(chi2, k=10)\n",
    "X_new = selector.fit_transform(X_resampled.drop(['raceId', 'resultId'],axis=1), y_resampled)\n",
    "X_new.shape"
   ]
  },
  {
   "cell_type": "code",
   "execution_count": 207,
   "metadata": {
    "colab": {
     "base_uri": "https://localhost:8080/",
     "height": 453
    },
    "id": "_nK09XXDNSJq",
    "outputId": "4730f5fb-ea8d-4588-a9e6-8fdb1875ffb8"
   },
   "outputs": [
    {
     "data": {
      "text/plain": [
       "25540    0\n",
       "4425     0\n",
       "4514     0\n",
       "1096     0\n",
       "22907    0\n",
       "        ..\n",
       "20983    1\n",
       "24568    1\n",
       "25214    1\n",
       "25864    1\n",
       "22066    1\n",
       "Name: class, Length: 2560, dtype: int64"
      ]
     },
     "execution_count": 207,
     "metadata": {},
     "output_type": "execute_result"
    }
   ],
   "source": [
    "y_resampled"
   ]
  },
  {
   "cell_type": "code",
   "execution_count": 208,
   "metadata": {
    "colab": {
     "base_uri": "https://localhost:8080/",
     "height": 419
    },
    "id": "TPt24JocNbbq",
    "outputId": "bce26376-7aa1-4b34-fd49-f1b02a425190"
   },
   "outputs": [
    {
     "data": {
      "text/html": [
       "<div>\n",
       "<style scoped>\n",
       "    .dataframe tbody tr th:only-of-type {\n",
       "        vertical-align: middle;\n",
       "    }\n",
       "\n",
       "    .dataframe tbody tr th {\n",
       "        vertical-align: top;\n",
       "    }\n",
       "\n",
       "    .dataframe thead th {\n",
       "        text-align: right;\n",
       "    }\n",
       "</style>\n",
       "<table border=\"1\" class=\"dataframe\">\n",
       "  <thead>\n",
       "    <tr style=\"text-align: right;\">\n",
       "      <th></th>\n",
       "      <th>driverId</th>\n",
       "      <th>constructorId</th>\n",
       "      <th>grid</th>\n",
       "      <th>laps</th>\n",
       "      <th>rank</th>\n",
       "      <th>circuitId</th>\n",
       "      <th>driverXpRace</th>\n",
       "      <th>driverAge</th>\n",
       "      <th>q2</th>\n",
       "      <th>q3</th>\n",
       "    </tr>\n",
       "  </thead>\n",
       "  <tbody>\n",
       "    <tr>\n",
       "      <th>25540</th>\n",
       "      <td>840</td>\n",
       "      <td>211</td>\n",
       "      <td>10</td>\n",
       "      <td>87</td>\n",
       "      <td>14</td>\n",
       "      <td>3</td>\n",
       "      <td>77</td>\n",
       "      <td>22</td>\n",
       "      <td>53.840</td>\n",
       "      <td>54.200</td>\n",
       "    </tr>\n",
       "    <tr>\n",
       "      <th>4425</th>\n",
       "      <td>35</td>\n",
       "      <td>3</td>\n",
       "      <td>3</td>\n",
       "      <td>72</td>\n",
       "      <td>0</td>\n",
       "      <td>25</td>\n",
       "      <td>3</td>\n",
       "      <td>25</td>\n",
       "      <td>0.000</td>\n",
       "      <td>0.000</td>\n",
       "    </tr>\n",
       "    <tr>\n",
       "      <th>4514</th>\n",
       "      <td>35</td>\n",
       "      <td>3</td>\n",
       "      <td>2</td>\n",
       "      <td>65</td>\n",
       "      <td>0</td>\n",
       "      <td>4</td>\n",
       "      <td>7</td>\n",
       "      <td>25</td>\n",
       "      <td>0.000</td>\n",
       "      <td>0.000</td>\n",
       "    </tr>\n",
       "    <tr>\n",
       "      <th>1096</th>\n",
       "      <td>21</td>\n",
       "      <td>4</td>\n",
       "      <td>6</td>\n",
       "      <td>53</td>\n",
       "      <td>7</td>\n",
       "      <td>22</td>\n",
       "      <td>178</td>\n",
       "      <td>33</td>\n",
       "      <td>90.306</td>\n",
       "      <td>90.599</td>\n",
       "    </tr>\n",
       "    <tr>\n",
       "      <th>22907</th>\n",
       "      <td>822</td>\n",
       "      <td>3</td>\n",
       "      <td>2</td>\n",
       "      <td>71</td>\n",
       "      <td>3</td>\n",
       "      <td>70</td>\n",
       "      <td>27</td>\n",
       "      <td>24</td>\n",
       "      <td>69.096</td>\n",
       "      <td>68.846</td>\n",
       "    </tr>\n",
       "    <tr>\n",
       "      <th>...</th>\n",
       "      <td>...</td>\n",
       "      <td>...</td>\n",
       "      <td>...</td>\n",
       "      <td>...</td>\n",
       "      <td>...</td>\n",
       "      <td>...</td>\n",
       "      <td>...</td>\n",
       "      <td>...</td>\n",
       "      <td>...</td>\n",
       "      <td>...</td>\n",
       "    </tr>\n",
       "    <tr>\n",
       "      <th>20983</th>\n",
       "      <td>808</td>\n",
       "      <td>4</td>\n",
       "      <td>18</td>\n",
       "      <td>9</td>\n",
       "      <td>18</td>\n",
       "      <td>1</td>\n",
       "      <td>2</td>\n",
       "      <td>25</td>\n",
       "      <td>0.000</td>\n",
       "      <td>0.000</td>\n",
       "    </tr>\n",
       "    <tr>\n",
       "      <th>24568</th>\n",
       "      <td>842</td>\n",
       "      <td>5</td>\n",
       "      <td>12</td>\n",
       "      <td>70</td>\n",
       "      <td>19</td>\n",
       "      <td>70</td>\n",
       "      <td>14</td>\n",
       "      <td>22</td>\n",
       "      <td>64.874</td>\n",
       "      <td>0.000</td>\n",
       "    </tr>\n",
       "    <tr>\n",
       "      <th>25214</th>\n",
       "      <td>847</td>\n",
       "      <td>3</td>\n",
       "      <td>18</td>\n",
       "      <td>54</td>\n",
       "      <td>17</td>\n",
       "      <td>69</td>\n",
       "      <td>19</td>\n",
       "      <td>21</td>\n",
       "      <td>0.000</td>\n",
       "      <td>0.000</td>\n",
       "    </tr>\n",
       "    <tr>\n",
       "      <th>25864</th>\n",
       "      <td>846</td>\n",
       "      <td>1</td>\n",
       "      <td>1</td>\n",
       "      <td>53</td>\n",
       "      <td>1</td>\n",
       "      <td>71</td>\n",
       "      <td>53</td>\n",
       "      <td>21</td>\n",
       "      <td>105.827</td>\n",
       "      <td>101.993</td>\n",
       "    </tr>\n",
       "    <tr>\n",
       "      <th>22066</th>\n",
       "      <td>815</td>\n",
       "      <td>15</td>\n",
       "      <td>15</td>\n",
       "      <td>11</td>\n",
       "      <td>22</td>\n",
       "      <td>9</td>\n",
       "      <td>27</td>\n",
       "      <td>22</td>\n",
       "      <td>117.895</td>\n",
       "      <td>0.000</td>\n",
       "    </tr>\n",
       "  </tbody>\n",
       "</table>\n",
       "<p>2560 rows × 10 columns</p>\n",
       "</div>"
      ],
      "text/plain": [
       "       driverId  constructorId  grid  laps  rank  circuitId  driverXpRace  \\\n",
       "25540       840            211    10    87    14          3            77   \n",
       "4425         35              3     3    72     0         25             3   \n",
       "4514         35              3     2    65     0          4             7   \n",
       "1096         21              4     6    53     7         22           178   \n",
       "22907       822              3     2    71     3         70            27   \n",
       "...         ...            ...   ...   ...   ...        ...           ...   \n",
       "20983       808              4    18     9    18          1             2   \n",
       "24568       842              5    12    70    19         70            14   \n",
       "25214       847              3    18    54    17         69            19   \n",
       "25864       846              1     1    53     1         71            53   \n",
       "22066       815             15    15    11    22          9            27   \n",
       "\n",
       "       driverAge       q2       q3  \n",
       "25540         22   53.840   54.200  \n",
       "4425          25    0.000    0.000  \n",
       "4514          25    0.000    0.000  \n",
       "1096          33   90.306   90.599  \n",
       "22907         24   69.096   68.846  \n",
       "...          ...      ...      ...  \n",
       "20983         25    0.000    0.000  \n",
       "24568         22   64.874    0.000  \n",
       "25214         21    0.000    0.000  \n",
       "25864         21  105.827  101.993  \n",
       "22066         22  117.895    0.000  \n",
       "\n",
       "[2560 rows x 10 columns]"
      ]
     },
     "execution_count": 208,
     "metadata": {},
     "output_type": "execute_result"
    }
   ],
   "source": [
    "cols_idxs = selector.get_support(indices=True)\n",
    "X_resampled.drop(['raceId', 'resultId'],axis=1).iloc[:,cols_idxs]\n"
   ]
  },
  {
   "cell_type": "code",
   "execution_count": 209,
   "metadata": {
    "id": "NXVPLln6OS3H"
   },
   "outputs": [],
   "source": [
    "X_train_resampled, X_test_resampled, y_train_resampled, y_test_resampled = train_test_split(X_new, y_resampled, test_size=0.3, random_state=42)"
   ]
  },
  {
   "cell_type": "code",
   "execution_count": 210,
   "metadata": {
    "id": "w4oD1NwpO0ob"
   },
   "outputs": [],
   "source": [
    "scaler = StandardScaler()\n",
    "X_train_transformed_resampled = scaler.fit_transform(X_train_resampled)\n",
    "X_test_transformed_resampled = scaler.transform(X_test_resampled)"
   ]
  },
  {
   "cell_type": "code",
   "execution_count": 211,
   "metadata": {
    "colab": {
     "base_uri": "https://localhost:8080/"
    },
    "id": "LsDPGaPgO8cs",
    "outputId": "1767e862-994a-4d2b-cb79-1988106a9fab"
   },
   "outputs": [
    {
     "data": {
      "text/plain": [
       "0.8532469149250712"
      ]
     },
     "execution_count": 211,
     "metadata": {},
     "output_type": "execute_result"
    }
   ],
   "source": [
    "# Initialize the models\n",
    "clf1 = KNeighborsClassifier(n_neighbors=21, weights='uniform', metric='minkowski', p=1)\n",
    "clf2 = KMeans(n_clusters=3, n_init='auto')\n",
    "# List of models\n",
    "models = [clf1, clf2]\n",
    "\n",
    "cross_val_score(clf1,X_train_transformed_resampled, y_train_resampled, cv=5).mean()"
   ]
  },
  {
   "cell_type": "code",
   "execution_count": 212,
   "metadata": {
    "colab": {
     "base_uri": "https://localhost:8080/"
    },
    "id": "W5DsYyPMPHpM",
    "outputId": "67d40c23-35c6-4043-cafe-22ddb2f39a35"
   },
   "outputs": [
    {
     "data": {
      "text/plain": [
       "0.86328125"
      ]
     },
     "execution_count": 212,
     "metadata": {},
     "output_type": "execute_result"
    }
   ],
   "source": [
    "clf1.fit(X_train_transformed_resampled, y_train_resampled)\n",
    "accuracy_score(clf1.predict(X_train_transformed_resampled), y_train_resampled)"
   ]
  },
  {
   "cell_type": "code",
   "execution_count": 213,
   "metadata": {
    "colab": {
     "base_uri": "https://localhost:8080/"
    },
    "id": "QYeI1qmgPSU8",
    "outputId": "4602ac8d-e93d-4c29-fee7-85e2f7f52719"
   },
   "outputs": [
    {
     "data": {
      "text/plain": [
       "0.8645833333333334"
      ]
     },
     "execution_count": 213,
     "metadata": {},
     "output_type": "execute_result"
    }
   ],
   "source": [
    "accuracy_score(clf1.predict(X_test_transformed_resampled), y_test_resampled)"
   ]
  },
  {
   "cell_type": "markdown",
   "metadata": {
    "id": "w4oP8CliRVEf"
   },
   "source": [
    "## Grid Search on resampled data"
   ]
  },
  {
   "cell_type": "code",
   "execution_count": 214,
   "metadata": {
    "id": "Bdhia_FnZypM"
   },
   "outputs": [],
   "source": [
    "\n",
    "parameters_KNN = {\n",
    "    'n_neighbors': range(5,25),\n",
    "    #'leaf_size': (20,40,1),\n",
    "    'p': (1,2,3,4,5),\n",
    "    'weights': ('uniform', 'distance'),\n",
    "    'metric': ('minkowski', 'chebyshev', 'cosine'),\n",
    "\n",
    "}\n"
   ]
  },
  {
   "cell_type": "code",
   "execution_count": 215,
   "metadata": {
    "id": "2HpFQLdDRY0G"
   },
   "outputs": [],
   "source": [
    "clf1 = KNeighborsClassifier()"
   ]
  },
  {
   "cell_type": "code",
   "execution_count": 216,
   "metadata": {
    "id": "JpQMSENtRY0I"
   },
   "outputs": [],
   "source": [
    "grid_search_KNN_1= GridSearchCV(\n",
    "    estimator=clf1,\n",
    "    param_grid=parameters_KNN,\n",
    "    scoring = 'accuracy',\n",
    "    n_jobs = -1,\n",
    "    cv = 5\n",
    ")"
   ]
  },
  {
   "cell_type": "code",
   "execution_count": 217,
   "metadata": {
    "colab": {
     "base_uri": "https://localhost:8080/",
     "height": 115
    },
    "id": "2AQx3aykRY0I",
    "outputId": "b6cebb3a-e5b5-45f0-a34f-b853c4e44d04",
    "scrolled": true
   },
   "outputs": [
    {
     "data": {
      "text/html": [
       "<style>#sk-container-id-7 {color: black;}#sk-container-id-7 pre{padding: 0;}#sk-container-id-7 div.sk-toggleable {background-color: white;}#sk-container-id-7 label.sk-toggleable__label {cursor: pointer;display: block;width: 100%;margin-bottom: 0;padding: 0.3em;box-sizing: border-box;text-align: center;}#sk-container-id-7 label.sk-toggleable__label-arrow:before {content: \"▸\";float: left;margin-right: 0.25em;color: #696969;}#sk-container-id-7 label.sk-toggleable__label-arrow:hover:before {color: black;}#sk-container-id-7 div.sk-estimator:hover label.sk-toggleable__label-arrow:before {color: black;}#sk-container-id-7 div.sk-toggleable__content {max-height: 0;max-width: 0;overflow: hidden;text-align: left;background-color: #f0f8ff;}#sk-container-id-7 div.sk-toggleable__content pre {margin: 0.2em;color: black;border-radius: 0.25em;background-color: #f0f8ff;}#sk-container-id-7 input.sk-toggleable__control:checked~div.sk-toggleable__content {max-height: 200px;max-width: 100%;overflow: auto;}#sk-container-id-7 input.sk-toggleable__control:checked~label.sk-toggleable__label-arrow:before {content: \"▾\";}#sk-container-id-7 div.sk-estimator input.sk-toggleable__control:checked~label.sk-toggleable__label {background-color: #d4ebff;}#sk-container-id-7 div.sk-label input.sk-toggleable__control:checked~label.sk-toggleable__label {background-color: #d4ebff;}#sk-container-id-7 input.sk-hidden--visually {border: 0;clip: rect(1px 1px 1px 1px);clip: rect(1px, 1px, 1px, 1px);height: 1px;margin: -1px;overflow: hidden;padding: 0;position: absolute;width: 1px;}#sk-container-id-7 div.sk-estimator {font-family: monospace;background-color: #f0f8ff;border: 1px dotted black;border-radius: 0.25em;box-sizing: border-box;margin-bottom: 0.5em;}#sk-container-id-7 div.sk-estimator:hover {background-color: #d4ebff;}#sk-container-id-7 div.sk-parallel-item::after {content: \"\";width: 100%;border-bottom: 1px solid gray;flex-grow: 1;}#sk-container-id-7 div.sk-label:hover label.sk-toggleable__label {background-color: #d4ebff;}#sk-container-id-7 div.sk-serial::before {content: \"\";position: absolute;border-left: 1px solid gray;box-sizing: border-box;top: 0;bottom: 0;left: 50%;z-index: 0;}#sk-container-id-7 div.sk-serial {display: flex;flex-direction: column;align-items: center;background-color: white;padding-right: 0.2em;padding-left: 0.2em;position: relative;}#sk-container-id-7 div.sk-item {position: relative;z-index: 1;}#sk-container-id-7 div.sk-parallel {display: flex;align-items: stretch;justify-content: center;background-color: white;position: relative;}#sk-container-id-7 div.sk-item::before, #sk-container-id-7 div.sk-parallel-item::before {content: \"\";position: absolute;border-left: 1px solid gray;box-sizing: border-box;top: 0;bottom: 0;left: 50%;z-index: -1;}#sk-container-id-7 div.sk-parallel-item {display: flex;flex-direction: column;z-index: 1;position: relative;background-color: white;}#sk-container-id-7 div.sk-parallel-item:first-child::after {align-self: flex-end;width: 50%;}#sk-container-id-7 div.sk-parallel-item:last-child::after {align-self: flex-start;width: 50%;}#sk-container-id-7 div.sk-parallel-item:only-child::after {width: 0;}#sk-container-id-7 div.sk-dashed-wrapped {border: 1px dashed gray;margin: 0 0.4em 0.5em 0.4em;box-sizing: border-box;padding-bottom: 0.4em;background-color: white;}#sk-container-id-7 div.sk-label label {font-family: monospace;font-weight: bold;display: inline-block;line-height: 1.2em;}#sk-container-id-7 div.sk-label-container {text-align: center;}#sk-container-id-7 div.sk-container {/* jupyter's `normalize.less` sets `[hidden] { display: none; }` but bootstrap.min.css set `[hidden] { display: none !important; }` so we also need the `!important` here to be able to override the default hidden behavior on the sphinx rendered scikit-learn.org. See: https://github.com/scikit-learn/scikit-learn/issues/21755 */display: inline-block !important;position: relative;}#sk-container-id-7 div.sk-text-repr-fallback {display: none;}</style><div id=\"sk-container-id-7\" class=\"sk-top-container\"><div class=\"sk-text-repr-fallback\"><pre>GridSearchCV(cv=5, estimator=KNeighborsClassifier(), n_jobs=-1,\n",
       "             param_grid={&#x27;metric&#x27;: (&#x27;minkowski&#x27;, &#x27;chebyshev&#x27;, &#x27;cosine&#x27;),\n",
       "                         &#x27;n_neighbors&#x27;: range(5, 25), &#x27;p&#x27;: (1, 2, 3, 4, 5),\n",
       "                         &#x27;weights&#x27;: (&#x27;uniform&#x27;, &#x27;distance&#x27;)},\n",
       "             scoring=&#x27;accuracy&#x27;)</pre><b>In a Jupyter environment, please rerun this cell to show the HTML representation or trust the notebook. <br />On GitHub, the HTML representation is unable to render, please try loading this page with nbviewer.org.</b></div><div class=\"sk-container\" hidden><div class=\"sk-item sk-dashed-wrapped\"><div class=\"sk-label-container\"><div class=\"sk-label sk-toggleable\"><input class=\"sk-toggleable__control sk-hidden--visually\" id=\"sk-estimator-id-9\" type=\"checkbox\" ><label for=\"sk-estimator-id-9\" class=\"sk-toggleable__label sk-toggleable__label-arrow\">GridSearchCV</label><div class=\"sk-toggleable__content\"><pre>GridSearchCV(cv=5, estimator=KNeighborsClassifier(), n_jobs=-1,\n",
       "             param_grid={&#x27;metric&#x27;: (&#x27;minkowski&#x27;, &#x27;chebyshev&#x27;, &#x27;cosine&#x27;),\n",
       "                         &#x27;n_neighbors&#x27;: range(5, 25), &#x27;p&#x27;: (1, 2, 3, 4, 5),\n",
       "                         &#x27;weights&#x27;: (&#x27;uniform&#x27;, &#x27;distance&#x27;)},\n",
       "             scoring=&#x27;accuracy&#x27;)</pre></div></div></div><div class=\"sk-parallel\"><div class=\"sk-parallel-item\"><div class=\"sk-item\"><div class=\"sk-label-container\"><div class=\"sk-label sk-toggleable\"><input class=\"sk-toggleable__control sk-hidden--visually\" id=\"sk-estimator-id-10\" type=\"checkbox\" ><label for=\"sk-estimator-id-10\" class=\"sk-toggleable__label sk-toggleable__label-arrow\">estimator: KNeighborsClassifier</label><div class=\"sk-toggleable__content\"><pre>KNeighborsClassifier()</pre></div></div></div><div class=\"sk-serial\"><div class=\"sk-item\"><div class=\"sk-estimator sk-toggleable\"><input class=\"sk-toggleable__control sk-hidden--visually\" id=\"sk-estimator-id-11\" type=\"checkbox\" ><label for=\"sk-estimator-id-11\" class=\"sk-toggleable__label sk-toggleable__label-arrow\">KNeighborsClassifier</label><div class=\"sk-toggleable__content\"><pre>KNeighborsClassifier()</pre></div></div></div></div></div></div></div></div></div></div>"
      ],
      "text/plain": [
       "GridSearchCV(cv=5, estimator=KNeighborsClassifier(), n_jobs=-1,\n",
       "             param_grid={'metric': ('minkowski', 'chebyshev', 'cosine'),\n",
       "                         'n_neighbors': range(5, 25), 'p': (1, 2, 3, 4, 5),\n",
       "                         'weights': ('uniform', 'distance')},\n",
       "             scoring='accuracy')"
      ]
     },
     "execution_count": 217,
     "metadata": {},
     "output_type": "execute_result"
    }
   ],
   "source": [
    "grid_search_KNN_1.fit(X_train_transformed_resampled, y_train_resampled)"
   ]
  },
  {
   "cell_type": "code",
   "execution_count": 218,
   "metadata": {
    "colab": {
     "base_uri": "https://localhost:8080/"
    },
    "id": "F4kkpnOtRY0J",
    "outputId": "8da04f28-dd58-42d8-d958-1364f2cd34f9"
   },
   "outputs": [
    {
     "data": {
      "text/plain": [
       "{'metric': 'minkowski', 'n_neighbors': 8, 'p': 3, 'weights': 'distance'}"
      ]
     },
     "execution_count": 218,
     "metadata": {},
     "output_type": "execute_result"
    }
   ],
   "source": [
    "grid_search_KNN_1.best_params_"
   ]
  },
  {
   "cell_type": "code",
   "execution_count": 219,
   "metadata": {
    "colab": {
     "base_uri": "https://localhost:8080/"
    },
    "id": "lUVPx9ZkRY0J",
    "outputId": "ca7a36ef-d7e8-4ed7-d50b-f03b7118e5fd"
   },
   "outputs": [
    {
     "data": {
      "text/plain": [
       "0.8688675868722866"
      ]
     },
     "execution_count": 219,
     "metadata": {},
     "output_type": "execute_result"
    }
   ],
   "source": [
    "grid_search_KNN_1.best_score_"
   ]
  },
  {
   "cell_type": "code",
   "execution_count": 220,
   "metadata": {
    "colab": {
     "base_uri": "https://localhost:8080/"
    },
    "id": "O3fq1SowRY0K",
    "outputId": "e709d381-6971-414c-baa3-214d0d595614"
   },
   "outputs": [
    {
     "data": {
      "text/plain": [
       "0.8802083333333334"
      ]
     },
     "execution_count": 220,
     "metadata": {},
     "output_type": "execute_result"
    }
   ],
   "source": [
    "accuracy_score(grid_search_KNN_1.best_estimator_.predict(X_test_transformed_resampled),y_test_resampled)"
   ]
  },
  {
   "cell_type": "code",
   "execution_count": 221,
   "metadata": {
    "colab": {
     "base_uri": "https://localhost:8080/"
    },
    "id": "wQst3LsoRY0K",
    "outputId": "adf14abc-cef0-47b7-9ee6-1710fea31f4f"
   },
   "outputs": [
    {
     "data": {
      "text/plain": [
       "1.0"
      ]
     },
     "execution_count": 221,
     "metadata": {},
     "output_type": "execute_result"
    }
   ],
   "source": [
    "accuracy_score(grid_search_KNN_1.best_estimator_.predict(X_train_transformed_resampled),y_train_resampled)"
   ]
  },
  {
   "cell_type": "code",
   "execution_count": 222,
   "metadata": {
    "id": "JAny0NBhR5Me"
   },
   "outputs": [],
   "source": [
    "teste= pd.DataFrame(grid_search_KNN_1.best_estimator_.predict(X_test_transformed_resampled))"
   ]
  },
  {
   "cell_type": "code",
   "execution_count": 223,
   "metadata": {
    "colab": {
     "base_uri": "https://localhost:8080/",
     "height": 176
    },
    "id": "LdTYsicvR5Mh",
    "outputId": "40b98133-faeb-49ff-9580-a5b340e334b0"
   },
   "outputs": [
    {
     "data": {
      "text/plain": [
       "0    389\n",
       "1    379\n",
       "Name: count, dtype: int64"
      ]
     },
     "execution_count": 223,
     "metadata": {},
     "output_type": "execute_result"
    }
   ],
   "source": [
    "teste.value_counts()"
   ]
  },
  {
   "cell_type": "code",
   "execution_count": 224,
   "metadata": {
    "colab": {
     "base_uri": "https://localhost:8080/",
     "height": 176
    },
    "id": "ZHKn5l-RR5Mi",
    "outputId": "fa8c34e6-218f-48a1-d04d-1b335d1133fc"
   },
   "outputs": [
    {
     "data": {
      "text/plain": [
       "class\n",
       "1    411\n",
       "0    357\n",
       "Name: count, dtype: int64"
      ]
     },
     "execution_count": 224,
     "metadata": {},
     "output_type": "execute_result"
    }
   ],
   "source": [
    "y_test_resampled.value_counts()"
   ]
  },
  {
   "cell_type": "code",
   "execution_count": 225,
   "metadata": {
    "colab": {
     "base_uri": "https://localhost:8080/",
     "height": 469
    },
    "id": "KljBklVYSAkf",
    "outputId": "d834fdc2-ee53-48bd-cc47-9c88c5eef104"
   },
   "outputs": [
    {
     "data": {
      "text/plain": [
       "array([[<Axes: title={'center': '0'}>]], dtype=object)"
      ]
     },
     "execution_count": 225,
     "metadata": {},
     "output_type": "execute_result"
    },
    {
     "data": {
      "image/png": "[encoded data removed]",
      "text/plain": [
       "<Figure size 640x480 with 1 Axes>"
      ]
     },
     "metadata": {},
     "output_type": "display_data"
    }
   ],
   "source": [
    "pd.DataFrame(grid_search_KNN_1.best_estimator_.predict(X_test_transformed_resampled)).hist()"
   ]
  },
  {
   "cell_type": "code",
   "execution_count": 226,
   "metadata": {
    "colab": {
     "base_uri": "https://localhost:8080/",
     "height": 466
    },
    "id": "xuQ8YPF3Sjf1",
    "outputId": "e43ade37-599d-4dbb-f0ce-312c9916f278"
   },
   "outputs": [
    {
     "data": {
      "text/plain": [
       "<sklearn.metrics._plot.confusion_matrix.ConfusionMatrixDisplay at 0x16dcbc650>"
      ]
     },
     "execution_count": 226,
     "metadata": {},
     "output_type": "execute_result"
    },
    {
     "data": {
      "image/png": "[encoded data removed]",
      "text/plain": [
       "<Figure size 640x480 with 2 Axes>"
      ]
     },
     "metadata": {},
     "output_type": "display_data"
    }
   ],
   "source": [
    "ConfusionMatrixDisplay.from_estimator(grid_search_KNN_1.best_estimator_, X_test_transformed_resampled, y_test_resampled)"
   ]
  },
  {
   "cell_type": "code",
   "execution_count": 227,
   "metadata": {
    "colab": {
     "base_uri": "https://localhost:8080/"
    },
    "id": "CnOooBnFmnY-",
    "outputId": "8879d1d1-5a98-4062-e275-1f3e2f07d9fa"
   },
   "outputs": [
    {
     "name": "stdout",
     "output_type": "stream",
     "text": [
      "              precision    recall  f1-score   support\n",
      "\n",
      "           0       0.84      0.92      0.88       357\n",
      "           1       0.92      0.85      0.88       411\n",
      "\n",
      "    accuracy                           0.88       768\n",
      "   macro avg       0.88      0.88      0.88       768\n",
      "weighted avg       0.88      0.88      0.88       768\n",
      "\n"
     ]
    }
   ],
   "source": [
    "y_pred =grid_search_KNN_1.best_estimator_.predict(X_test_transformed_resampled)\n",
    "print(classification_report(y_test_resampled, y_pred))"
   ]
  },
  {
   "cell_type": "markdown",
   "metadata": {},
   "source": [
    "# KMeans"
   ]
  },
  {
   "cell_type": "code",
   "execution_count": 228,
   "metadata": {},
   "outputs": [],
   "source": [
    "from sklearn.metrics import silhouette_score"
   ]
  },
  {
   "cell_type": "code",
   "execution_count": 229,
   "metadata": {},
   "outputs": [
    {
     "name": "stdout",
     "output_type": "stream",
     "text": [
      "For n_clusters = 2 The average silhouette_score is : 0.2396038708720669 Accuracy 0.24497767857142858\n",
      "For n_clusters = 3 The average silhouette_score is : 0.2280821066317799 Accuracy 0.15848214285714285\n",
      "For n_clusters = 4 The average silhouette_score is : 0.1929201850848611 Accuracy 0.11439732142857142\n",
      "For n_clusters = 5 The average silhouette_score is : 0.20281951395076667 Accuracy 0.08984375\n",
      "For n_clusters = 6 The average silhouette_score is : 0.2092892131993395 Accuracy 0.08984375\n",
      "For n_clusters = 7 The average silhouette_score is : 0.21095306424984578 Accuracy 0.06808035714285714\n",
      "For n_clusters = 8 The average silhouette_score is : 0.20028285241756796 Accuracy 0.060267857142857144\n",
      "For n_clusters = 9 The average silhouette_score is : 0.19800563769034368 Accuracy 0.060267857142857144\n",
      "For n_clusters = 10 The average silhouette_score is : 0.21131099716202342 Accuracy 0.05747767857142857\n"
     ]
    }
   ],
   "source": [
    "range_n_clusters = [2, 3, 4, 5, 6, 7, 8 ,9 , 10]\n",
    "for n_clusters in range_n_clusters:\n",
    "    clusterer = KMeans(n_clusters=n_clusters, random_state=42, n_init='auto')\n",
    "    cluster_labels = clusterer.fit_predict(X_train_transformed_resampled)\n",
    "    silhouette_avg = silhouette_score(X_train_transformed_resampled, cluster_labels)\n",
    "    accuracy = accuracy_score(cluster_labels, y_train_resampled)\n",
    "    print(\n",
    "        \"For n_clusters =\",\n",
    "        n_clusters,\n",
    "        \"The average silhouette_score is :\",\n",
    "        silhouette_avg,\n",
    "        \"Accuracy\",\n",
    "        accuracy\n",
    "    )\n",
    "    "
   ]
  },
  {
   "cell_type": "code",
   "execution_count": 230,
   "metadata": {},
   "outputs": [],
   "source": [
    "from sklearn.metrics.cluster import rand_score"
   ]
  },
  {
   "cell_type": "code",
   "execution_count": 231,
   "metadata": {},
   "outputs": [],
   "source": [
    "kmeans = KMeans(n_clusters=2, random_state=42, n_init='auto')\n",
    "kmeans.fit(X_train_transformed_resampled)\n",
    "y_pred_kmeans = kmeans.predict(X_test_transformed_resampled)"
   ]
  },
  {
   "cell_type": "code",
   "execution_count": 232,
   "metadata": {},
   "outputs": [
    {
     "data": {
      "text/plain": [
       "0.6271322251195133"
      ]
     },
     "execution_count": 232,
     "metadata": {},
     "output_type": "execute_result"
    }
   ],
   "source": [
    "rand_score(y_test_resampled, y_pred_kmeans)"
   ]
  },
  {
   "cell_type": "code",
   "execution_count": 233,
   "metadata": {},
   "outputs": [
    {
     "name": "stdout",
     "output_type": "stream",
     "text": [
      "[ 8.07000000e+02  4.00000000e+00 -1.86059495e-01 -6.31539720e-01\n",
      "  1.59404857e-02 -3.30100213e-01  1.66919762e-01  4.09174860e-01\n",
      "  9.92994119e-01  1.23051732e+00]\n"
     ]
    }
   ],
   "source": [
    "from sklearn.preprocessing import StandardScaler\n",
    "import numpy as np\n",
    "\n",
    "# separating the columns that should be scaled\n",
    "X_train_to_scale = X_train_resampled[:, 2:10]\n",
    "X_train_untouched = X_train_resampled[:, :2]\n",
    "\n",
    "# applying StandardScaler to the selected columns\n",
    "scaler = StandardScaler()\n",
    "X_train_scaled = scaler.fit_transform(X_train_to_scale)\n",
    "\n",
    "# concatenating the untouched columns with the scaled columns\n",
    "X_train_transformed_resampled_kmeans = np.hstack((X_train_untouched, X_train_scaled))\n",
    "\n",
    "# apply the same transformation to the test data\n",
    "X_test_to_scale = X_test_resampled[:, 2:10]\n",
    "X_test_untouched = X_test_resampled[:, :2]\n",
    "X_test_scaled = scaler.transform(X_test_to_scale)\n",
    "X_test_transformed_resampled_kmeans = np.hstack((X_test_untouched, X_test_scaled))\n",
    "\n",
    "\n",
    "print(X_train_transformed_resampled_kmeans[0])"
   ]
  },
  {
   "cell_type": "code",
   "execution_count": 234,
   "metadata": {},
   "outputs": [
    {
     "name": "stdout",
     "output_type": "stream",
     "text": [
      "For n_clusters = 2 The average silhouette_score is : 0.901567139235075 Accuracy 0.5770089285714286\n",
      "For n_clusters = 3 The average silhouette_score is : 0.8270255630273257 Accuracy 0.33872767857142855\n",
      "For n_clusters = 4 The average silhouette_score is : 0.8032208655195615 Accuracy 0.25502232142857145\n",
      "For n_clusters = 5 The average silhouette_score is : 0.7993978959804745 Accuracy 0.17466517857142858\n",
      "For n_clusters = 6 The average silhouette_score is : 0.7942224102482304 Accuracy 0.17466517857142858\n",
      "For n_clusters = 7 The average silhouette_score is : 0.8170855151145379 Accuracy 0.16964285714285715\n",
      "For n_clusters = 8 The average silhouette_score is : 0.7782798902251885 Accuracy 0.16964285714285715\n",
      "For n_clusters = 9 The average silhouette_score is : 0.6739428308295464 Accuracy 0.08314732142857142\n",
      "For n_clusters = 10 The average silhouette_score is : 0.668566129498082 Accuracy 0.08314732142857142\n"
     ]
    }
   ],
   "source": [
    "range_n_clusters = [2, 3, 4, 5, 6, 7, 8 ,9 , 10]\n",
    "for n_clusters in range_n_clusters:\n",
    "    clusterer = KMeans(n_clusters=n_clusters, random_state=42, n_init='auto')\n",
    "    cluster_labels = clusterer.fit_predict(X_train_transformed_resampled_kmeans)\n",
    "    silhouette_avg = silhouette_score(X_train_transformed_resampled_kmeans, cluster_labels)\n",
    "    accuracy = accuracy_score(cluster_labels, y_train_resampled)\n",
    "    print(\n",
    "        \"For n_clusters =\",\n",
    "        n_clusters,\n",
    "        \"The average silhouette_score is :\",\n",
    "        silhouette_avg,\n",
    "        \"Accuracy\",\n",
    "        accuracy\n",
    "    )\n",
    "    "
   ]
  },
  {
   "cell_type": "code",
   "execution_count": 235,
   "metadata": {},
   "outputs": [],
   "source": [
    "kmeans = KMeans(n_clusters=2, random_state=42, n_init='auto')\n",
    "kmeans.fit(X_train_transformed_resampled_kmeans)\n",
    "y_pred_kmeans = kmeans.predict(X_test_transformed_resampled_kmeans)"
   ]
  },
  {
   "cell_type": "code",
   "execution_count": 236,
   "metadata": {},
   "outputs": [
    {
     "data": {
      "text/plain": [
       "0.5062235169491526"
      ]
     },
     "execution_count": 236,
     "metadata": {},
     "output_type": "execute_result"
    }
   ],
   "source": [
    "rand_score(y_test_resampled, y_pred_kmeans)"
   ]
  },
  {
   "cell_type": "markdown",
   "metadata": {},
   "source": [
    "# Decision Tree"
   ]
  },
  {
   "cell_type": "code",
   "execution_count": 237,
   "metadata": {},
   "outputs": [],
   "source": [
    "from sklearn.ensemble import RandomForestClassifier"
   ]
  },
  {
   "cell_type": "code",
   "execution_count": 238,
   "metadata": {},
   "outputs": [
    {
     "data": {
      "text/html": [
       "<style>#sk-container-id-8 {color: black;}#sk-container-id-8 pre{padding: 0;}#sk-container-id-8 div.sk-toggleable {background-color: white;}#sk-container-id-8 label.sk-toggleable__label {cursor: pointer;display: block;width: 100%;margin-bottom: 0;padding: 0.3em;box-sizing: border-box;text-align: center;}#sk-container-id-8 label.sk-toggleable__label-arrow:before {content: \"▸\";float: left;margin-right: 0.25em;color: #696969;}#sk-container-id-8 label.sk-toggleable__label-arrow:hover:before {color: black;}#sk-container-id-8 div.sk-estimator:hover label.sk-toggleable__label-arrow:before {color: black;}#sk-container-id-8 div.sk-toggleable__content {max-height: 0;max-width: 0;overflow: hidden;text-align: left;background-color: #f0f8ff;}#sk-container-id-8 div.sk-toggleable__content pre {margin: 0.2em;color: black;border-radius: 0.25em;background-color: #f0f8ff;}#sk-container-id-8 input.sk-toggleable__control:checked~div.sk-toggleable__content {max-height: 200px;max-width: 100%;overflow: auto;}#sk-container-id-8 input.sk-toggleable__control:checked~label.sk-toggleable__label-arrow:before {content: \"▾\";}#sk-container-id-8 div.sk-estimator input.sk-toggleable__control:checked~label.sk-toggleable__label {background-color: #d4ebff;}#sk-container-id-8 div.sk-label input.sk-toggleable__control:checked~label.sk-toggleable__label {background-color: #d4ebff;}#sk-container-id-8 input.sk-hidden--visually {border: 0;clip: rect(1px 1px 1px 1px);clip: rect(1px, 1px, 1px, 1px);height: 1px;margin: -1px;overflow: hidden;padding: 0;position: absolute;width: 1px;}#sk-container-id-8 div.sk-estimator {font-family: monospace;background-color: #f0f8ff;border: 1px dotted black;border-radius: 0.25em;box-sizing: border-box;margin-bottom: 0.5em;}#sk-container-id-8 div.sk-estimator:hover {background-color: #d4ebff;}#sk-container-id-8 div.sk-parallel-item::after {content: \"\";width: 100%;border-bottom: 1px solid gray;flex-grow: 1;}#sk-container-id-8 div.sk-label:hover label.sk-toggleable__label {background-color: #d4ebff;}#sk-container-id-8 div.sk-serial::before {content: \"\";position: absolute;border-left: 1px solid gray;box-sizing: border-box;top: 0;bottom: 0;left: 50%;z-index: 0;}#sk-container-id-8 div.sk-serial {display: flex;flex-direction: column;align-items: center;background-color: white;padding-right: 0.2em;padding-left: 0.2em;position: relative;}#sk-container-id-8 div.sk-item {position: relative;z-index: 1;}#sk-container-id-8 div.sk-parallel {display: flex;align-items: stretch;justify-content: center;background-color: white;position: relative;}#sk-container-id-8 div.sk-item::before, #sk-container-id-8 div.sk-parallel-item::before {content: \"\";position: absolute;border-left: 1px solid gray;box-sizing: border-box;top: 0;bottom: 0;left: 50%;z-index: -1;}#sk-container-id-8 div.sk-parallel-item {display: flex;flex-direction: column;z-index: 1;position: relative;background-color: white;}#sk-container-id-8 div.sk-parallel-item:first-child::after {align-self: flex-end;width: 50%;}#sk-container-id-8 div.sk-parallel-item:last-child::after {align-self: flex-start;width: 50%;}#sk-container-id-8 div.sk-parallel-item:only-child::after {width: 0;}#sk-container-id-8 div.sk-dashed-wrapped {border: 1px dashed gray;margin: 0 0.4em 0.5em 0.4em;box-sizing: border-box;padding-bottom: 0.4em;background-color: white;}#sk-container-id-8 div.sk-label label {font-family: monospace;font-weight: bold;display: inline-block;line-height: 1.2em;}#sk-container-id-8 div.sk-label-container {text-align: center;}#sk-container-id-8 div.sk-container {/* jupyter's `normalize.less` sets `[hidden] { display: none; }` but bootstrap.min.css set `[hidden] { display: none !important; }` so we also need the `!important` here to be able to override the default hidden behavior on the sphinx rendered scikit-learn.org. See: https://github.com/scikit-learn/scikit-learn/issues/21755 */display: inline-block !important;position: relative;}#sk-container-id-8 div.sk-text-repr-fallback {display: none;}</style><div id=\"sk-container-id-8\" class=\"sk-top-container\"><div class=\"sk-text-repr-fallback\"><pre>RandomForestClassifier()</pre><b>In a Jupyter environment, please rerun this cell to show the HTML representation or trust the notebook. <br />On GitHub, the HTML representation is unable to render, please try loading this page with nbviewer.org.</b></div><div class=\"sk-container\" hidden><div class=\"sk-item\"><div class=\"sk-estimator sk-toggleable\"><input class=\"sk-toggleable__control sk-hidden--visually\" id=\"sk-estimator-id-12\" type=\"checkbox\" checked><label for=\"sk-estimator-id-12\" class=\"sk-toggleable__label sk-toggleable__label-arrow\">RandomForestClassifier</label><div class=\"sk-toggleable__content\"><pre>RandomForestClassifier()</pre></div></div></div></div></div>"
      ],
      "text/plain": [
       "RandomForestClassifier()"
      ]
     },
     "execution_count": 238,
     "metadata": {},
     "output_type": "execute_result"
    }
   ],
   "source": [
    "random_forest = RandomForestClassifier()\n",
    "random_forest.fit(X_train_transformed_resampled, y_train_resampled)"
   ]
  },
  {
   "cell_type": "code",
   "execution_count": 239,
   "metadata": {},
   "outputs": [],
   "source": [
    "y_pred_random_forest = random_forest.predict(X_test_transformed_resampled)"
   ]
  },
  {
   "cell_type": "code",
   "execution_count": 240,
   "metadata": {},
   "outputs": [
    {
     "data": {
      "text/plain": [
       "0.88671875"
      ]
     },
     "execution_count": 240,
     "metadata": {},
     "output_type": "execute_result"
    }
   ],
   "source": [
    "accuracy_score(y_test_resampled, y_pred_random_forest)"
   ]
  },
  {
   "cell_type": "code",
   "execution_count": 241,
   "metadata": {},
   "outputs": [
    {
     "name": "stdout",
     "output_type": "stream",
     "text": [
      "              precision    recall  f1-score   support\n",
      "\n",
      "           0       0.88      0.88      0.88       357\n",
      "           1       0.90      0.89      0.89       411\n",
      "\n",
      "    accuracy                           0.89       768\n",
      "   macro avg       0.89      0.89      0.89       768\n",
      "weighted avg       0.89      0.89      0.89       768\n",
      "\n"
     ]
    }
   ],
   "source": [
    "print(classification_report(y_test_resampled, y_pred_random_forest))"
   ]
  },
  {
   "cell_type": "code",
   "execution_count": null,
   "metadata": {},
   "outputs": [],
   "source": []
  }
 ],
 "metadata": {
  "colab": {
   "provenance": []
  },
  "kernelspec": {
   "display_name": "Python 3 (ipykernel)",
   "language": "python",
   "name": "python3"
  },
  "language_info": {
   "codemirror_mode": {
    "name": "ipython",
    "version": 3
   },
   "file_extension": ".py",
   "mimetype": "text/x-python",
   "name": "python",
   "nbconvert_exporter": "python",
   "pygments_lexer": "ipython3",
   "version": "3.11.5"
  }
 },
 "nbformat": 4,
 "nbformat_minor": 1
}
